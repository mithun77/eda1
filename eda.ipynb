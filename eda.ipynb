{
 "cells": [
  {
   "cell_type": "markdown",
   "metadata": {},
   "source": [
    "# EDA FINAL EXAM"
   ]
  },
  {
   "cell_type": "markdown",
   "metadata": {},
   "source": [
    "\n",
    "\n",
    "\n",
    "### We combined three datasets in single CSV file mention below columns belongs to \n",
    "\n",
    "\n",
    "### BlackFriday\n",
    "\n",
    "1. User_ID =User ID\n",
    "2. Product_ID = Product ID\t\n",
    "4. Gender\t= Sex of user\n",
    "\n",
    "5. Age = Age in bins\n",
    "\n",
    "6. Occupation = Occupation(Masked)\n",
    "\n",
    "7. City_Category = Category of the city(A,B,C)\n",
    "\n",
    "8. Stay_In_Current_City_Years = Number of years stay in current city\n",
    "\n",
    "9. Marital_Status = marital Status\n",
    "\n",
    "10. Product_Category_1 = Product Category(Masked)\n",
    "\n",
    "11. Product_Category_2\t = Product may belongs to other category also (Masked)\n",
    "\n",
    "12. Product_Category_3\t =Product may belongs to other category also (Masked)\n",
    "\n",
    "13. Purchase = Purchase Amount (Target Variable)\n",
    "\n",
    "\n",
    "\n",
    "\n",
    "\n",
    "\n",
    "\n",
    "\n",
    "\n"
   ]
  },
  {
   "cell_type": "markdown",
   "metadata": {},
   "source": [
    "### Accidents \n",
    "\n",
    "\n",
    "1. 'ID' = This is a unique identifier of the accident record.\n",
    "\n",
    "2. TMC' = A traffic accident may have a Traffic Message Channel (TMC) code which provides more detailed description of the \n",
    "\n",
    "3. 'Severity' =  Shows the severity of the accident, a number between 1 and 4, where 1 indicates the least impact on traffic (i.e., short delay\n",
    "\n",
    "4. 'Start_Time' =  Shows start time of the accident in local time zone.\n",
    "\n",
    "5. 'End_Time'= Shows end time of the accident in local time zone. End time here refers to when the impact of accident on traffic flow\n",
    "\n",
    "6. 'Distance(mi)' = The length of the road extent affected by the accident.\n",
    "\n",
    "7. 'Number'= Shows the street number in address record.  \n",
    "\n",
    "8. 'Side' =  Shows the relative side of the street (Right/Left) in address record.\n",
    "\n",
    "9. 'City'=  Shows the city in address record.\n",
    "\n",
    "10. 'County'= Shows the county in address record.\n",
    "\n",
    "11. 'State'=Shows the state in address record.\n",
    "\n",
    "12. 'Zipcode'= Shows the zipcode in address record.\n",
    "\n",
    "13. 'Weather_Timestamp'= Shows the time-stamp of weather observation record (in local time). \n",
    "\n",
    "14. 'Temperature(F)' = Shows the temperature (in Fahrenheit).\n",
    "\n",
    "15. 'Wind_Chill(F)' = Shows the wind chill (in Fahrenheit). \n",
    "\n",
    "16. 'Humidity(%)'= Shows the humidity (in percentage)\n",
    "\n",
    "17. 'Pressure(in)'=Shows the air pressure (in inches).\n",
    "\n",
    "18. 'Visibility(mi)' = Shows visibility (in miles).\n",
    "\n",
    "19. 'Wind_Direction' =Shows wind direction. \n",
    "\n",
    "20. 'Wind_Speed(mph)'= Shows wind speed (in miles per hour).\n",
    "       \n",
    "21. 'Precipitation(in)' =Shows precipitation amount in inches, if there is any. '\n",
    "\n",
    "22. Weather_Condition' = Shows the weather condition (rain, snow, thunderstorm, fog, etc.\n",
    "       \n",
    "       \n",
    "       \n"
   ]
  },
  {
   "cell_type": "markdown",
   "metadata": {},
   "source": [
    "###       pgaTourData\n",
    "\n",
    "1. Player Name: Name of the golfer\n",
    "2. Rounds: The number of games that a player played\n",
    "3. Fairway Percentage: The percentage of time a tee shot lands on the fairway\n",
    "4. Year: The year in which the statistic was collected\n",
    "5. Avg Distance: The average distance of the tee-shot\n",
    "6. gir: (Green in Regulation) is met if any part of the ball is touching the putting surface while the number of strokes taken is at least two fewer than par\n",
    "7. Average Putts: The average number of strokes taken on the green\n",
    "8. Average Scrambling: Scrambling is when a player misses the green in regulation, but still makes par or better on a hole\n",
    "9. Average Score: Average Score is the average of all the scores a player has played in that year\n",
    "10. Points: The number of FedExCup points a player earned in that year. These points can be earned by competing in tournaments.\n",
    "11. Wins: The number of competition a player has won in that year\n",
    "12. Top 10: The number of competitions where a player has placed in the Top 10\n",
    "13. Average SG Putts: Strokes gained: putting measures how many strokes a player gains (or loses) on the greens.\n",
    "14. Average SG Total: The Off-the-tee + approach-the-green + around-the-green + putting statistics combined\n",
    "15. SG:OTT: Strokes gained: off-the-tee measures player performance off the tee on all par-4s and par-5s.\n",
    "16. SG:APR: Strokes gained: approach-the-green measures player performance on approach shots. Approach shots include all shots that are not from the tee on par-4 and par-5 holes and are not included in strokes gained: around-the-green and strokes gained: putting. Approach shots include tee shots on par-3s.\n",
    "17. SG:ARG: Strokes gained: around-the-green measures player performance on any shot within 30 yards of the edge of the green. This statistic does not include any shots taken on the putting green.\n",
    "19. Money: The amount of prize money a player has earned from tournaments"
   ]
  },
  {
   "cell_type": "code",
   "execution_count": null,
   "metadata": {
    "colab_type": "raw",
    "id": "wEgYP9-oW0cg"
   },
   "outputs": [],
   "source": [
    "## Kindly change the below cells from markdown to code and execute it "
   ]
  },
  {
   "cell_type": "code",
   "execution_count": 242,
   "metadata": {
    "colab_type": "raw",
    "id": "VQ_WA9jKW0ch"
   },
   "outputs": [
    {
     "data": {
      "text/html": [
       "<div>\n",
       "<style scoped>\n",
       "    .dataframe tbody tr th:only-of-type {\n",
       "        vertical-align: middle;\n",
       "    }\n",
       "\n",
       "    .dataframe tbody tr th {\n",
       "        vertical-align: top;\n",
       "    }\n",
       "\n",
       "    .dataframe thead th {\n",
       "        text-align: right;\n",
       "    }\n",
       "</style>\n",
       "<table border=\"1\" class=\"dataframe\">\n",
       "  <thead>\n",
       "    <tr style=\"text-align: right;\">\n",
       "      <th></th>\n",
       "      <th>User_ID</th>\n",
       "      <th>Product_ID</th>\n",
       "      <th>Gender</th>\n",
       "      <th>Age</th>\n",
       "      <th>Occupation</th>\n",
       "      <th>City_Category</th>\n",
       "      <th>Stay_In_Current_City_Years</th>\n",
       "      <th>Marital_Status</th>\n",
       "      <th>Product_Category_1</th>\n",
       "      <th>Product_Category_2</th>\n",
       "      <th>...</th>\n",
       "      <th>Weather_Timestamp</th>\n",
       "      <th>Temperature(F)</th>\n",
       "      <th>Wind_Chill(F)</th>\n",
       "      <th>Humidity(%)</th>\n",
       "      <th>Pressure(in)</th>\n",
       "      <th>Visibility(mi)</th>\n",
       "      <th>Wind_Direction</th>\n",
       "      <th>Wind_Speed(mph)</th>\n",
       "      <th>Precipitation(in)</th>\n",
       "      <th>Weather_Condition</th>\n",
       "    </tr>\n",
       "  </thead>\n",
       "  <tbody>\n",
       "    <tr>\n",
       "      <th>0</th>\n",
       "      <td>1000001</td>\n",
       "      <td>P00069042</td>\n",
       "      <td>F</td>\n",
       "      <td>0-17</td>\n",
       "      <td>10</td>\n",
       "      <td>A</td>\n",
       "      <td>2</td>\n",
       "      <td>0</td>\n",
       "      <td>3</td>\n",
       "      <td>NaN</td>\n",
       "      <td>...</td>\n",
       "      <td>11-02-2016 08:53</td>\n",
       "      <td>12.0</td>\n",
       "      <td>1.5</td>\n",
       "      <td>77.0</td>\n",
       "      <td>30.26</td>\n",
       "      <td>10.0</td>\n",
       "      <td>West</td>\n",
       "      <td>6.9</td>\n",
       "      <td>NaN</td>\n",
       "      <td>Overcast</td>\n",
       "    </tr>\n",
       "    <tr>\n",
       "      <th>1</th>\n",
       "      <td>1000001</td>\n",
       "      <td>P00248942</td>\n",
       "      <td>F</td>\n",
       "      <td>0-17</td>\n",
       "      <td>10</td>\n",
       "      <td>A</td>\n",
       "      <td>2</td>\n",
       "      <td>0</td>\n",
       "      <td>1</td>\n",
       "      <td>6.0</td>\n",
       "      <td>...</td>\n",
       "      <td>11-02-2016 19:51</td>\n",
       "      <td>17.1</td>\n",
       "      <td>11.7</td>\n",
       "      <td>62.0</td>\n",
       "      <td>30.35</td>\n",
       "      <td>10.0</td>\n",
       "      <td>SW</td>\n",
       "      <td>3.5</td>\n",
       "      <td>0.0</td>\n",
       "      <td>Mostly Cloudy</td>\n",
       "    </tr>\n",
       "    <tr>\n",
       "      <th>2</th>\n",
       "      <td>1000001</td>\n",
       "      <td>P00087842</td>\n",
       "      <td>F</td>\n",
       "      <td>0-17</td>\n",
       "      <td>10</td>\n",
       "      <td>A</td>\n",
       "      <td>2</td>\n",
       "      <td>0</td>\n",
       "      <td>12</td>\n",
       "      <td>NaN</td>\n",
       "      <td>...</td>\n",
       "      <td>18-02-2016 07:56</td>\n",
       "      <td>26.1</td>\n",
       "      <td>NaN</td>\n",
       "      <td>81.0</td>\n",
       "      <td>30.50</td>\n",
       "      <td>5.0</td>\n",
       "      <td>Calm</td>\n",
       "      <td>NaN</td>\n",
       "      <td>NaN</td>\n",
       "      <td>Haze</td>\n",
       "    </tr>\n",
       "    <tr>\n",
       "      <th>3</th>\n",
       "      <td>1000001</td>\n",
       "      <td>P00085442</td>\n",
       "      <td>F</td>\n",
       "      <td>0-17</td>\n",
       "      <td>10</td>\n",
       "      <td>A</td>\n",
       "      <td>2</td>\n",
       "      <td>0</td>\n",
       "      <td>12</td>\n",
       "      <td>14.0</td>\n",
       "      <td>...</td>\n",
       "      <td>18-02-2016 07:58</td>\n",
       "      <td>25.9</td>\n",
       "      <td>NaN</td>\n",
       "      <td>86.0</td>\n",
       "      <td>30.50</td>\n",
       "      <td>10.0</td>\n",
       "      <td>Calm</td>\n",
       "      <td>NaN</td>\n",
       "      <td>NaN</td>\n",
       "      <td>Mostly Cloudy</td>\n",
       "    </tr>\n",
       "    <tr>\n",
       "      <th>4</th>\n",
       "      <td>1000002</td>\n",
       "      <td>P00285442</td>\n",
       "      <td>M</td>\n",
       "      <td>55+</td>\n",
       "      <td>16</td>\n",
       "      <td>C</td>\n",
       "      <td>4+</td>\n",
       "      <td>0</td>\n",
       "      <td>8</td>\n",
       "      <td>NaN</td>\n",
       "      <td>...</td>\n",
       "      <td>18-02-2016 09:51</td>\n",
       "      <td>30.0</td>\n",
       "      <td>23.2</td>\n",
       "      <td>72.0</td>\n",
       "      <td>30.53</td>\n",
       "      <td>7.0</td>\n",
       "      <td>East</td>\n",
       "      <td>6.9</td>\n",
       "      <td>NaN</td>\n",
       "      <td>Mostly Cloudy</td>\n",
       "    </tr>\n",
       "  </tbody>\n",
       "</table>\n",
       "<p>5 rows × 52 columns</p>\n",
       "</div>"
      ],
      "text/plain": [
       "   User_ID Product_ID Gender   Age Occupation City_Category  \\\n",
       "0  1000001  P00069042      F  0-17         10             A   \n",
       "1  1000001  P00248942      F  0-17         10             A   \n",
       "2  1000001  P00087842      F  0-17         10             A   \n",
       "3  1000001  P00085442      F  0-17         10             A   \n",
       "4  1000002  P00285442      M   55+         16             C   \n",
       "\n",
       "  Stay_In_Current_City_Years  Marital_Status  Product_Category_1  \\\n",
       "0                          2               0                   3   \n",
       "1                          2               0                   1   \n",
       "2                          2               0                  12   \n",
       "3                          2               0                  12   \n",
       "4                         4+               0                   8   \n",
       "\n",
       "   Product_Category_2  ...  Weather_Timestamp  Temperature(F) Wind_Chill(F)  \\\n",
       "0                 NaN  ...   11-02-2016 08:53            12.0           1.5   \n",
       "1                 6.0  ...   11-02-2016 19:51            17.1          11.7   \n",
       "2                 NaN  ...   18-02-2016 07:56            26.1           NaN   \n",
       "3                14.0  ...   18-02-2016 07:58            25.9           NaN   \n",
       "4                 NaN  ...   18-02-2016 09:51            30.0          23.2   \n",
       "\n",
       "   Humidity(%)  Pressure(in)  Visibility(mi)  Wind_Direction  Wind_Speed(mph)  \\\n",
       "0         77.0         30.26            10.0            West              6.9   \n",
       "1         62.0         30.35            10.0              SW              3.5   \n",
       "2         81.0         30.50             5.0            Calm              NaN   \n",
       "3         86.0         30.50            10.0            Calm              NaN   \n",
       "4         72.0         30.53             7.0            East              6.9   \n",
       "\n",
       "   Precipitation(in)  Weather_Condition  \n",
       "0                NaN           Overcast  \n",
       "1                0.0      Mostly Cloudy  \n",
       "2                NaN               Haze  \n",
       "3                NaN      Mostly Cloudy  \n",
       "4                NaN      Mostly Cloudy  \n",
       "\n",
       "[5 rows x 52 columns]"
      ]
     },
     "execution_count": 242,
     "metadata": {},
     "output_type": "execute_result"
    }
   ],
   "source": [
    "import pandas as pd\n",
    "\n",
    "import csv\n",
    "\n",
    "with open(\"data_set.csv\",\"r\")as file:\n",
    "    \n",
    "    reader=csv.reader(file)\n",
    "\n",
    "df=pd.read_csv(\"data_set.csv\")\n",
    "\n",
    "df.head()\n"
   ]
  },
  {
   "cell_type": "code",
   "execution_count": 3,
   "metadata": {
    "scrolled": false
   },
   "outputs": [
    {
     "data": {
      "text/html": [
       "<div>\n",
       "<style scoped>\n",
       "    .dataframe tbody tr th:only-of-type {\n",
       "        vertical-align: middle;\n",
       "    }\n",
       "\n",
       "    .dataframe tbody tr th {\n",
       "        vertical-align: top;\n",
       "    }\n",
       "\n",
       "    .dataframe thead th {\n",
       "        text-align: right;\n",
       "    }\n",
       "</style>\n",
       "<table border=\"1\" class=\"dataframe\">\n",
       "  <thead>\n",
       "    <tr style=\"text-align: right;\">\n",
       "      <th></th>\n",
       "      <th>User_ID</th>\n",
       "      <th>Product_ID</th>\n",
       "      <th>Gender</th>\n",
       "      <th>Age</th>\n",
       "      <th>Occupation</th>\n",
       "      <th>City_Category</th>\n",
       "      <th>Stay_In_Current_City_Years</th>\n",
       "      <th>Marital_Status</th>\n",
       "      <th>Product_Category_1</th>\n",
       "      <th>Product_Category_2</th>\n",
       "      <th>...</th>\n",
       "      <th>Weather_Timestamp</th>\n",
       "      <th>Temperature(F)</th>\n",
       "      <th>Wind_Chill(F)</th>\n",
       "      <th>Humidity(%)</th>\n",
       "      <th>Pressure(in)</th>\n",
       "      <th>Visibility(mi)</th>\n",
       "      <th>Wind_Direction</th>\n",
       "      <th>Wind_Speed(mph)</th>\n",
       "      <th>Precipitation(in)</th>\n",
       "      <th>Weather_Condition</th>\n",
       "    </tr>\n",
       "  </thead>\n",
       "  <tbody>\n",
       "    <tr>\n",
       "      <th>0</th>\n",
       "      <td>1000001</td>\n",
       "      <td>P00069042</td>\n",
       "      <td>F</td>\n",
       "      <td>0-17</td>\n",
       "      <td>10</td>\n",
       "      <td>A</td>\n",
       "      <td>2</td>\n",
       "      <td>0</td>\n",
       "      <td>3</td>\n",
       "      <td>NaN</td>\n",
       "      <td>...</td>\n",
       "      <td>11-02-2016 08:53</td>\n",
       "      <td>12.0</td>\n",
       "      <td>1.5</td>\n",
       "      <td>77.0</td>\n",
       "      <td>30.26</td>\n",
       "      <td>10.0</td>\n",
       "      <td>West</td>\n",
       "      <td>6.9</td>\n",
       "      <td>NaN</td>\n",
       "      <td>Overcast</td>\n",
       "    </tr>\n",
       "  </tbody>\n",
       "</table>\n",
       "<p>1 rows × 52 columns</p>\n",
       "</div>"
      ],
      "text/plain": [
       "   User_ID Product_ID Gender   Age Occupation City_Category  \\\n",
       "0  1000001  P00069042      F  0-17         10             A   \n",
       "\n",
       "  Stay_In_Current_City_Years  Marital_Status  Product_Category_1  \\\n",
       "0                          2               0                   3   \n",
       "\n",
       "   Product_Category_2  ...  Weather_Timestamp  Temperature(F) Wind_Chill(F)  \\\n",
       "0                 NaN  ...   11-02-2016 08:53            12.0           1.5   \n",
       "\n",
       "   Humidity(%)  Pressure(in)  Visibility(mi)  Wind_Direction  Wind_Speed(mph)  \\\n",
       "0         77.0         30.26            10.0            West              6.9   \n",
       "\n",
       "   Precipitation(in)  Weather_Condition  \n",
       "0                NaN           Overcast  \n",
       "\n",
       "[1 rows x 52 columns]"
      ]
     },
     "execution_count": 3,
     "metadata": {},
     "output_type": "execute_result"
    }
   ],
   "source": [
    "df.head(1)"
   ]
  },
  {
   "cell_type": "code",
   "execution_count": 4,
   "metadata": {},
   "outputs": [
    {
     "data": {
      "text/plain": [
       "(720, 52)"
      ]
     },
     "execution_count": 4,
     "metadata": {},
     "output_type": "execute_result"
    }
   ],
   "source": [
    "df.shape"
   ]
  },
  {
   "cell_type": "code",
   "execution_count": 5,
   "metadata": {
    "scrolled": true
   },
   "outputs": [
    {
     "data": {
      "text/html": [
       "<div>\n",
       "<style scoped>\n",
       "    .dataframe tbody tr th:only-of-type {\n",
       "        vertical-align: middle;\n",
       "    }\n",
       "\n",
       "    .dataframe tbody tr th {\n",
       "        vertical-align: top;\n",
       "    }\n",
       "\n",
       "    .dataframe thead th {\n",
       "        text-align: right;\n",
       "    }\n",
       "</style>\n",
       "<table border=\"1\" class=\"dataframe\">\n",
       "  <thead>\n",
       "    <tr style=\"text-align: right;\">\n",
       "      <th></th>\n",
       "      <th>User_ID</th>\n",
       "      <th>Product_ID</th>\n",
       "      <th>Gender</th>\n",
       "      <th>Age</th>\n",
       "      <th>Occupation</th>\n",
       "      <th>City_Category</th>\n",
       "      <th>Stay_In_Current_City_Years</th>\n",
       "      <th>Marital_Status</th>\n",
       "      <th>Product_Category_1</th>\n",
       "      <th>Product_Category_2</th>\n",
       "      <th>Product_Category_3</th>\n",
       "      <th>Purchase</th>\n",
       "    </tr>\n",
       "  </thead>\n",
       "  <tbody>\n",
       "    <tr>\n",
       "      <th>0</th>\n",
       "      <td>1000001</td>\n",
       "      <td>P00069042</td>\n",
       "      <td>F</td>\n",
       "      <td>0-17</td>\n",
       "      <td>10</td>\n",
       "      <td>A</td>\n",
       "      <td>2</td>\n",
       "      <td>0</td>\n",
       "      <td>3</td>\n",
       "      <td>NaN</td>\n",
       "      <td>NaN</td>\n",
       "      <td>8370</td>\n",
       "    </tr>\n",
       "  </tbody>\n",
       "</table>\n",
       "</div>"
      ],
      "text/plain": [
       "   User_ID Product_ID Gender   Age Occupation City_Category  \\\n",
       "0  1000001  P00069042      F  0-17         10             A   \n",
       "\n",
       "  Stay_In_Current_City_Years  Marital_Status  Product_Category_1  \\\n",
       "0                          2               0                   3   \n",
       "\n",
       "   Product_Category_2  Product_Category_3  Purchase  \n",
       "0                 NaN                 NaN      8370  "
      ]
     },
     "execution_count": 5,
     "metadata": {},
     "output_type": "execute_result"
    }
   ],
   "source": [
    "BlackFriday = df.iloc[:, :12]\n",
    "BlackFriday.head(1)"
   ]
  },
  {
   "cell_type": "code",
   "execution_count": 6,
   "metadata": {},
   "outputs": [
    {
     "data": {
      "text/plain": [
       "Index(['User_ID', 'Product_ID', 'Gender', 'Age', 'Occupation', 'City_Category',\n",
       "       'Stay_In_Current_City_Years', 'Marital_Status', 'Product_Category_1',\n",
       "       'Product_Category_2', 'Product_Category_3', 'Purchase'],\n",
       "      dtype='object')"
      ]
     },
     "execution_count": 6,
     "metadata": {},
     "output_type": "execute_result"
    }
   ],
   "source": [
    "BlackFriday.columns"
   ]
  },
  {
   "cell_type": "code",
   "execution_count": 7,
   "metadata": {
    "scrolled": false
   },
   "outputs": [
    {
     "data": {
      "text/html": [
       "<div>\n",
       "<style scoped>\n",
       "    .dataframe tbody tr th:only-of-type {\n",
       "        vertical-align: middle;\n",
       "    }\n",
       "\n",
       "    .dataframe tbody tr th {\n",
       "        vertical-align: top;\n",
       "    }\n",
       "\n",
       "    .dataframe thead th {\n",
       "        text-align: right;\n",
       "    }\n",
       "</style>\n",
       "<table border=\"1\" class=\"dataframe\">\n",
       "  <thead>\n",
       "    <tr style=\"text-align: right;\">\n",
       "      <th></th>\n",
       "      <th>ID</th>\n",
       "      <th>TMC</th>\n",
       "      <th>Severity</th>\n",
       "      <th>Start_Time</th>\n",
       "      <th>End_Time</th>\n",
       "      <th>Distance(mi)</th>\n",
       "      <th>Number</th>\n",
       "      <th>Side</th>\n",
       "      <th>City</th>\n",
       "      <th>County</th>\n",
       "      <th>...</th>\n",
       "      <th>Weather_Timestamp</th>\n",
       "      <th>Temperature(F)</th>\n",
       "      <th>Wind_Chill(F)</th>\n",
       "      <th>Humidity(%)</th>\n",
       "      <th>Pressure(in)</th>\n",
       "      <th>Visibility(mi)</th>\n",
       "      <th>Wind_Direction</th>\n",
       "      <th>Wind_Speed(mph)</th>\n",
       "      <th>Precipitation(in)</th>\n",
       "      <th>Weather_Condition</th>\n",
       "    </tr>\n",
       "  </thead>\n",
       "  <tbody>\n",
       "    <tr>\n",
       "      <th>0</th>\n",
       "      <td>A-102</td>\n",
       "      <td>241</td>\n",
       "      <td>2</td>\n",
       "      <td>11-02-2016 08:34</td>\n",
       "      <td>11-02-2016 09:04</td>\n",
       "      <td>0.48</td>\n",
       "      <td>NaN</td>\n",
       "      <td>R</td>\n",
       "      <td>Columbus</td>\n",
       "      <td>Franklin</td>\n",
       "      <td>...</td>\n",
       "      <td>11-02-2016 08:53</td>\n",
       "      <td>12.0</td>\n",
       "      <td>1.5</td>\n",
       "      <td>77.0</td>\n",
       "      <td>30.26</td>\n",
       "      <td>10.0</td>\n",
       "      <td>West</td>\n",
       "      <td>6.9</td>\n",
       "      <td>NaN</td>\n",
       "      <td>Overcast</td>\n",
       "    </tr>\n",
       "  </tbody>\n",
       "</table>\n",
       "<p>1 rows × 22 columns</p>\n",
       "</div>"
      ],
      "text/plain": [
       "      ID  TMC  Severity        Start_Time          End_Time  Distance(mi)  \\\n",
       "0  A-102  241         2  11-02-2016 08:34  11-02-2016 09:04          0.48   \n",
       "\n",
       "   Number Side      City    County  ... Weather_Timestamp Temperature(F)  \\\n",
       "0     NaN    R  Columbus  Franklin  ...  11-02-2016 08:53           12.0   \n",
       "\n",
       "  Wind_Chill(F)  Humidity(%)  Pressure(in)  Visibility(mi)  Wind_Direction  \\\n",
       "0           1.5         77.0         30.26            10.0            West   \n",
       "\n",
       "   Wind_Speed(mph) Precipitation(in)  Weather_Condition  \n",
       "0              6.9               NaN           Overcast  \n",
       "\n",
       "[1 rows x 22 columns]"
      ]
     },
     "execution_count": 7,
     "metadata": {},
     "output_type": "execute_result"
    }
   ],
   "source": [
    "Accidents = df.iloc[:, 30:]\n",
    "Accidents.head(1)"
   ]
  },
  {
   "cell_type": "code",
   "execution_count": 8,
   "metadata": {},
   "outputs": [
    {
     "data": {
      "text/plain": [
       "Index(['ID', 'TMC', 'Severity', 'Start_Time', 'End_Time', 'Distance(mi)',\n",
       "       'Number', 'Side', 'City', 'County', 'State', 'Zipcode',\n",
       "       'Weather_Timestamp', 'Temperature(F)', 'Wind_Chill(F)', 'Humidity(%)',\n",
       "       'Pressure(in)', 'Visibility(mi)', 'Wind_Direction', 'Wind_Speed(mph)',\n",
       "       'Precipitation(in)', 'Weather_Condition'],\n",
       "      dtype='object')"
      ]
     },
     "execution_count": 8,
     "metadata": {},
     "output_type": "execute_result"
    }
   ],
   "source": [
    "Accidents.columns"
   ]
  },
  {
   "cell_type": "code",
   "execution_count": 243,
   "metadata": {},
   "outputs": [
    {
     "data": {
      "text/html": [
       "<div>\n",
       "<style scoped>\n",
       "    .dataframe tbody tr th:only-of-type {\n",
       "        vertical-align: middle;\n",
       "    }\n",
       "\n",
       "    .dataframe tbody tr th {\n",
       "        vertical-align: top;\n",
       "    }\n",
       "\n",
       "    .dataframe thead th {\n",
       "        text-align: right;\n",
       "    }\n",
       "</style>\n",
       "<table border=\"1\" class=\"dataframe\">\n",
       "  <thead>\n",
       "    <tr style=\"text-align: right;\">\n",
       "      <th></th>\n",
       "      <th>Player Name</th>\n",
       "      <th>Rounds</th>\n",
       "      <th>Fairway Percentage</th>\n",
       "      <th>Year</th>\n",
       "      <th>Avg Distance</th>\n",
       "      <th>gir</th>\n",
       "      <th>Average Putts</th>\n",
       "      <th>Average Scrambling</th>\n",
       "      <th>Average Score</th>\n",
       "      <th>Points</th>\n",
       "      <th>Wins</th>\n",
       "      <th>Top 10</th>\n",
       "      <th>Average SG Putts</th>\n",
       "      <th>Average SG Total</th>\n",
       "      <th>SG:OTT</th>\n",
       "      <th>SG:APR</th>\n",
       "      <th>SG:ARG</th>\n",
       "      <th>Money</th>\n",
       "    </tr>\n",
       "  </thead>\n",
       "  <tbody>\n",
       "    <tr>\n",
       "      <th>0</th>\n",
       "      <td>Henrik Stenson</td>\n",
       "      <td>60</td>\n",
       "      <td>75.19</td>\n",
       "      <td>2018</td>\n",
       "      <td>291.5</td>\n",
       "      <td>73.51</td>\n",
       "      <td>29.93</td>\n",
       "      <td>60.67</td>\n",
       "      <td>69.617</td>\n",
       "      <td>868</td>\n",
       "      <td>NaN</td>\n",
       "      <td>5.0</td>\n",
       "      <td>-0.207</td>\n",
       "      <td>1.153</td>\n",
       "      <td>0.427</td>\n",
       "      <td>0.96</td>\n",
       "      <td>-0.027</td>\n",
       "      <td>$2,680,487</td>\n",
       "    </tr>\n",
       "  </tbody>\n",
       "</table>\n",
       "</div>"
      ],
      "text/plain": [
       "      Player Name  Rounds  Fairway Percentage  Year  Avg Distance    gir  \\\n",
       "0  Henrik Stenson      60               75.19  2018         291.5  73.51   \n",
       "\n",
       "   Average Putts  Average Scrambling  Average Score Points  Wins  Top 10  \\\n",
       "0          29.93               60.67         69.617    868   NaN     5.0   \n",
       "\n",
       "   Average SG Putts  Average SG Total  SG:OTT  SG:APR  SG:ARG       Money  \n",
       "0            -0.207             1.153   0.427    0.96  -0.027  $2,680,487  "
      ]
     },
     "execution_count": 243,
     "metadata": {},
     "output_type": "execute_result"
    }
   ],
   "source": [
    "pgaTourData = df.iloc[:,12:30]\n",
    "pgaTourData.head(1)"
   ]
  },
  {
   "cell_type": "code",
   "execution_count": 244,
   "metadata": {
    "scrolled": true
   },
   "outputs": [
    {
     "data": {
      "text/plain": [
       "Index(['Player Name', 'Rounds', 'Fairway Percentage', 'Year', 'Avg Distance',\n",
       "       'gir', 'Average Putts', 'Average Scrambling', 'Average Score', 'Points',\n",
       "       'Wins', 'Top 10', 'Average SG Putts', 'Average SG Total', 'SG:OTT',\n",
       "       'SG:APR', 'SG:ARG', 'Money'],\n",
       "      dtype='object')"
      ]
     },
     "execution_count": 244,
     "metadata": {},
     "output_type": "execute_result"
    }
   ],
   "source": [
    "pgaTourData.columns"
   ]
  },
  {
   "cell_type": "markdown",
   "metadata": {},
   "source": [
    "# SECTION A: 20 MARKS"
   ]
  },
  {
   "cell_type": "markdown",
   "metadata": {},
   "source": [
    "### 1. Read the dataset(BlackFriday.csv) answer the questions below\n",
    "\n",
    "A)Create a crosstab for (Purchase Vs Marital_Status) write your observation? (2 Marks)\n",
    "\n",
    "B)Check the outliers in the data. write your observations (3 marks)\n",
    "\n"
   ]
  },
  {
   "cell_type": "code",
   "execution_count": 14,
   "metadata": {},
   "outputs": [
    {
     "data": {
      "text/html": [
       "<div>\n",
       "<style scoped>\n",
       "    .dataframe tbody tr th:only-of-type {\n",
       "        vertical-align: middle;\n",
       "    }\n",
       "\n",
       "    .dataframe tbody tr th {\n",
       "        vertical-align: top;\n",
       "    }\n",
       "\n",
       "    .dataframe thead th {\n",
       "        text-align: right;\n",
       "    }\n",
       "</style>\n",
       "<table border=\"1\" class=\"dataframe\">\n",
       "  <thead>\n",
       "    <tr style=\"text-align: right;\">\n",
       "      <th></th>\n",
       "      <th>User_ID</th>\n",
       "      <th>Product_ID</th>\n",
       "      <th>Gender</th>\n",
       "      <th>Age</th>\n",
       "      <th>Occupation</th>\n",
       "      <th>City_Category</th>\n",
       "      <th>Stay_In_Current_City_Years</th>\n",
       "      <th>Marital_Status</th>\n",
       "      <th>Product_Category_1</th>\n",
       "      <th>Product_Category_2</th>\n",
       "      <th>Product_Category_3</th>\n",
       "      <th>Purchase</th>\n",
       "    </tr>\n",
       "  </thead>\n",
       "  <tbody>\n",
       "    <tr>\n",
       "      <th>0</th>\n",
       "      <td>1000001</td>\n",
       "      <td>P00069042</td>\n",
       "      <td>F</td>\n",
       "      <td>0-17</td>\n",
       "      <td>10</td>\n",
       "      <td>A</td>\n",
       "      <td>2</td>\n",
       "      <td>0</td>\n",
       "      <td>3</td>\n",
       "      <td>NaN</td>\n",
       "      <td>NaN</td>\n",
       "      <td>8370</td>\n",
       "    </tr>\n",
       "    <tr>\n",
       "      <th>1</th>\n",
       "      <td>1000001</td>\n",
       "      <td>P00248942</td>\n",
       "      <td>F</td>\n",
       "      <td>0-17</td>\n",
       "      <td>10</td>\n",
       "      <td>A</td>\n",
       "      <td>2</td>\n",
       "      <td>0</td>\n",
       "      <td>1</td>\n",
       "      <td>6.0</td>\n",
       "      <td>14.0</td>\n",
       "      <td>15200</td>\n",
       "    </tr>\n",
       "    <tr>\n",
       "      <th>2</th>\n",
       "      <td>1000001</td>\n",
       "      <td>P00087842</td>\n",
       "      <td>F</td>\n",
       "      <td>0-17</td>\n",
       "      <td>10</td>\n",
       "      <td>A</td>\n",
       "      <td>2</td>\n",
       "      <td>0</td>\n",
       "      <td>12</td>\n",
       "      <td>NaN</td>\n",
       "      <td>NaN</td>\n",
       "      <td>1422</td>\n",
       "    </tr>\n",
       "    <tr>\n",
       "      <th>3</th>\n",
       "      <td>1000001</td>\n",
       "      <td>P00085442</td>\n",
       "      <td>F</td>\n",
       "      <td>0-17</td>\n",
       "      <td>10</td>\n",
       "      <td>A</td>\n",
       "      <td>2</td>\n",
       "      <td>0</td>\n",
       "      <td>12</td>\n",
       "      <td>14.0</td>\n",
       "      <td>NaN</td>\n",
       "      <td>1057</td>\n",
       "    </tr>\n",
       "    <tr>\n",
       "      <th>4</th>\n",
       "      <td>1000002</td>\n",
       "      <td>P00285442</td>\n",
       "      <td>M</td>\n",
       "      <td>55+</td>\n",
       "      <td>16</td>\n",
       "      <td>C</td>\n",
       "      <td>4+</td>\n",
       "      <td>0</td>\n",
       "      <td>8</td>\n",
       "      <td>NaN</td>\n",
       "      <td>NaN</td>\n",
       "      <td>7969</td>\n",
       "    </tr>\n",
       "  </tbody>\n",
       "</table>\n",
       "</div>"
      ],
      "text/plain": [
       "   User_ID Product_ID Gender   Age Occupation City_Category  \\\n",
       "0  1000001  P00069042      F  0-17         10             A   \n",
       "1  1000001  P00248942      F  0-17         10             A   \n",
       "2  1000001  P00087842      F  0-17         10             A   \n",
       "3  1000001  P00085442      F  0-17         10             A   \n",
       "4  1000002  P00285442      M   55+         16             C   \n",
       "\n",
       "  Stay_In_Current_City_Years  Marital_Status  Product_Category_1  \\\n",
       "0                          2               0                   3   \n",
       "1                          2               0                   1   \n",
       "2                          2               0                  12   \n",
       "3                          2               0                  12   \n",
       "4                         4+               0                   8   \n",
       "\n",
       "   Product_Category_2  Product_Category_3  Purchase  \n",
       "0                 NaN                 NaN      8370  \n",
       "1                 6.0                14.0     15200  \n",
       "2                 NaN                 NaN      1422  \n",
       "3                14.0                 NaN      1057  \n",
       "4                 NaN                 NaN      7969  "
      ]
     },
     "execution_count": 14,
     "metadata": {},
     "output_type": "execute_result"
    }
   ],
   "source": [
    "# A,\n",
    "\n",
    "BlackFriday.head()"
   ]
  },
  {
   "cell_type": "code",
   "execution_count": 35,
   "metadata": {},
   "outputs": [
    {
     "data": {
      "text/html": [
       "<div>\n",
       "<style scoped>\n",
       "    .dataframe tbody tr th:only-of-type {\n",
       "        vertical-align: middle;\n",
       "    }\n",
       "\n",
       "    .dataframe tbody tr th {\n",
       "        vertical-align: top;\n",
       "    }\n",
       "\n",
       "    .dataframe thead th {\n",
       "        text-align: right;\n",
       "    }\n",
       "</style>\n",
       "<table border=\"1\" class=\"dataframe\">\n",
       "  <thead>\n",
       "    <tr style=\"text-align: right;\">\n",
       "      <th>Marital_Status</th>\n",
       "      <th>0</th>\n",
       "      <th>1</th>\n",
       "    </tr>\n",
       "    <tr>\n",
       "      <th>Gender</th>\n",
       "      <th></th>\n",
       "      <th></th>\n",
       "    </tr>\n",
       "  </thead>\n",
       "  <tbody>\n",
       "    <tr>\n",
       "      <th>F</th>\n",
       "      <td>9601.606557</td>\n",
       "      <td>8011.811111</td>\n",
       "    </tr>\n",
       "    <tr>\n",
       "      <th>M</th>\n",
       "      <td>9752.395257</td>\n",
       "      <td>9795.937255</td>\n",
       "    </tr>\n",
       "  </tbody>\n",
       "</table>\n",
       "</div>"
      ],
      "text/plain": [
       "Marital_Status            0            1\n",
       "Gender                                  \n",
       "F               9601.606557  8011.811111\n",
       "M               9752.395257  9795.937255"
      ]
     },
     "execution_count": 35,
     "metadata": {},
     "output_type": "execute_result"
    }
   ],
   "source": [
    "pd.crosstab(index=BlackFriday.Gender, columns=BlackFriday.Marital_Status, values=BlackFriday.Purchase, aggfunc='mean')"
   ]
  },
  {
   "cell_type": "code",
   "execution_count": null,
   "metadata": {},
   "outputs": [],
   "source": []
  },
  {
   "cell_type": "markdown",
   "metadata": {},
   "source": [
    "B, Check for outliers"
   ]
  },
  {
   "cell_type": "code",
   "execution_count": 27,
   "metadata": {},
   "outputs": [
    {
     "name": "stdout",
     "output_type": "stream",
     "text": [
      "User_ID\n"
     ]
    },
    {
     "data": {
      "image/png": "[encoded data removed]",
      "text/plain": [
       "<Figure size 432x288 with 1 Axes>"
      ]
     },
     "metadata": {
      "needs_background": "light"
     },
     "output_type": "display_data"
    },
    {
     "name": "stdout",
     "output_type": "stream",
     "text": [
      "Marital_Status\n"
     ]
    },
    {
     "data": {
      "image/png": "[encoded data removed]",
      "text/plain": [
       "<Figure size 432x288 with 1 Axes>"
      ]
     },
     "metadata": {
      "needs_background": "light"
     },
     "output_type": "display_data"
    },
    {
     "name": "stdout",
     "output_type": "stream",
     "text": [
      "Product_Category_1\n"
     ]
    },
    {
     "data": {
      "image/png": "[encoded data removed]",
      "text/plain": [
       "<Figure size 432x288 with 1 Axes>"
      ]
     },
     "metadata": {
      "needs_background": "light"
     },
     "output_type": "display_data"
    },
    {
     "name": "stdout",
     "output_type": "stream",
     "text": [
      "Product_Category_2\n"
     ]
    },
    {
     "data": {
      "image/png": "[encoded data removed]",
      "text/plain": [
       "<Figure size 432x288 with 1 Axes>"
      ]
     },
     "metadata": {
      "needs_background": "light"
     },
     "output_type": "display_data"
    },
    {
     "name": "stdout",
     "output_type": "stream",
     "text": [
      "Product_Category_3\n"
     ]
    },
    {
     "data": {
      "image/png": "[encoded data removed]",
      "text/plain": [
       "<Figure size 432x288 with 1 Axes>"
      ]
     },
     "metadata": {
      "needs_background": "light"
     },
     "output_type": "display_data"
    },
    {
     "name": "stdout",
     "output_type": "stream",
     "text": [
      "Purchase\n"
     ]
    },
    {
     "data": {
      "image/png": "[encoded data removed]",
      "text/plain": [
       "<Figure size 432x288 with 1 Axes>"
      ]
     },
     "metadata": {
      "needs_background": "light"
     },
     "output_type": "display_data"
    }
   ],
   "source": [
    "import seaborn as sns\n",
    "import matplotlib.pyplot as plt\n",
    "\n",
    "num_cols = BlackFriday.select_dtypes(exclude = 'object')\n",
    "for col in num_cols.columns:\n",
    "    print(col)\n",
    "    sns.boxplot(BlackFriday[col])\n",
    "    plt.show()"
   ]
  },
  {
   "cell_type": "markdown",
   "metadata": {},
   "source": [
    "* It is evident from the boc plot that the numerical features of the BlackFriday dataset has no outliers."
   ]
  },
  {
   "cell_type": "code",
   "execution_count": null,
   "metadata": {},
   "outputs": [],
   "source": []
  },
  {
   "cell_type": "markdown",
   "metadata": {},
   "source": [
    " _________________"
   ]
  },
  {
   "cell_type": "markdown",
   "metadata": {},
   "source": [
    "### 2. Read the dataset(BlackFriday) answer the questions below\n",
    "    \n",
    "A) Draw the Count Plot for the Occupation Column and Write your inference? (1 Marks)\n",
    "\n",
    "B) Split the Dataset into Train and Test. Also, give us the reason behind your split.[`Purchase` Column should be the target variable] (2 Marks)\n",
    "\n",
    "C) What is Imbalance in a classification problem? How do you overcome it? Write a code for SMOTE (No need to execute)? (2 Marks)\n",
    "\n",
    "\n",
    "\n",
    "\n",
    "\n",
    "\n",
    "\n",
    "\n"
   ]
  },
  {
   "cell_type": "code",
   "execution_count": 41,
   "metadata": {},
   "outputs": [
    {
     "data": {
      "image/png": "[encoded data removed]",
      "text/plain": [
       "<Figure size 720x360 with 1 Axes>"
      ]
     },
     "metadata": {
      "needs_background": "light"
     },
     "output_type": "display_data"
    }
   ],
   "source": [
    "# A,\n",
    "\n",
    "plt.figure(figsize=(10,5))\n",
    "sns.countplot(BlackFriday['Occupation'])\n",
    "plt.show()"
   ]
  },
  {
   "cell_type": "markdown",
   "metadata": {},
   "source": [
    "* There are 22 occupations and they all are already decoded with numericals. Occupation 4 has the highest percentage of data.\n",
    "* We also have '-' occupation which needs to be imputed."
   ]
  },
  {
   "cell_type": "code",
   "execution_count": 53,
   "metadata": {},
   "outputs": [],
   "source": [
    "# B,"
   ]
  },
  {
   "cell_type": "code",
   "execution_count": 54,
   "metadata": {},
   "outputs": [
    {
     "data": {
      "text/plain": [
       "User_ID                        0.000000\n",
       "Product_ID                     0.000000\n",
       "Gender                         0.000000\n",
       "Age                            0.000000\n",
       "Occupation                     0.000000\n",
       "City_Category                  0.000000\n",
       "Stay_In_Current_City_Years     0.000000\n",
       "Marital_Status                 0.000000\n",
       "Product_Category_1             0.000000\n",
       "Product_Category_2            28.888889\n",
       "Product_Category_3            67.500000\n",
       "Purchase                       0.000000\n",
       "dtype: float64"
      ]
     },
     "execution_count": 54,
     "metadata": {},
     "output_type": "execute_result"
    }
   ],
   "source": [
    "BlackFriday.isna().sum()/ len(BlackFriday) * 100"
   ]
  },
  {
   "cell_type": "markdown",
   "metadata": {},
   "source": [
    "* columns Product_Category_3 has 67.5% NULL values. It makes no sense in using that column or also to impute the NULL values in it. Hence we are dropping that column."
   ]
  },
  {
   "cell_type": "code",
   "execution_count": 71,
   "metadata": {},
   "outputs": [
    {
     "data": {
      "text/html": [
       "<div>\n",
       "<style scoped>\n",
       "    .dataframe tbody tr th:only-of-type {\n",
       "        vertical-align: middle;\n",
       "    }\n",
       "\n",
       "    .dataframe tbody tr th {\n",
       "        vertical-align: top;\n",
       "    }\n",
       "\n",
       "    .dataframe thead th {\n",
       "        text-align: right;\n",
       "    }\n",
       "</style>\n",
       "<table border=\"1\" class=\"dataframe\">\n",
       "  <thead>\n",
       "    <tr style=\"text-align: right;\">\n",
       "      <th></th>\n",
       "      <th>User_ID</th>\n",
       "      <th>Marital_Status</th>\n",
       "      <th>Product_Category_1</th>\n",
       "      <th>Product_Category_2</th>\n",
       "      <th>Product_Category_3</th>\n",
       "      <th>Purchase</th>\n",
       "    </tr>\n",
       "  </thead>\n",
       "  <tbody>\n",
       "    <tr>\n",
       "      <th>0</th>\n",
       "      <td>1000001</td>\n",
       "      <td>0</td>\n",
       "      <td>3</td>\n",
       "      <td>NaN</td>\n",
       "      <td>NaN</td>\n",
       "      <td>8370</td>\n",
       "    </tr>\n",
       "    <tr>\n",
       "      <th>1</th>\n",
       "      <td>1000001</td>\n",
       "      <td>0</td>\n",
       "      <td>1</td>\n",
       "      <td>6.0</td>\n",
       "      <td>14.0</td>\n",
       "      <td>15200</td>\n",
       "    </tr>\n",
       "  </tbody>\n",
       "</table>\n",
       "</div>"
      ],
      "text/plain": [
       "   User_ID  Marital_Status  Product_Category_1  Product_Category_2  \\\n",
       "0  1000001               0                   3                 NaN   \n",
       "1  1000001               0                   1                 6.0   \n",
       "\n",
       "   Product_Category_3  Purchase  \n",
       "0                 NaN      8370  \n",
       "1                14.0     15200  "
      ]
     },
     "execution_count": 71,
     "metadata": {},
     "output_type": "execute_result"
    }
   ],
   "source": [
    "df_num = BlackFriday.select_dtypes(exclude='object')\n",
    "df_num.head(2)"
   ]
  },
  {
   "cell_type": "code",
   "execution_count": 72,
   "metadata": {},
   "outputs": [],
   "source": [
    "df_num = df_num.drop(columns='Product_Category_3')"
   ]
  },
  {
   "cell_type": "code",
   "execution_count": 73,
   "metadata": {},
   "outputs": [
    {
     "name": "stdout",
     "output_type": "stream",
     "text": [
      "P00351142    6\n",
      "P00248942    5\n",
      "P00036842    5\n",
      "P00000642    4\n",
      "P00021742    4\n",
      "P00127242    4\n",
      "P00334242    4\n",
      "P00277442    4\n",
      "P00010842    3\n",
      "P00145042    3\n",
      "P00010742    3\n",
      "P00192542    3\n",
      "P00113242    3\n",
      "P00223242    3\n",
      "P00190042    3\n",
      "P00209842    3\n",
      "P00037142    3\n",
      "P00150542    3\n",
      "P00344242    3\n",
      "P00120342    3\n",
      "P00148642    3\n",
      "P00051442    3\n",
      "P00285442    3\n",
      "P00251342    3\n",
      "P00278642    3\n",
      "P00346142    3\n",
      "P00129542    3\n",
      "P00338442    3\n",
      "P00193542    2\n",
      "P00250842    2\n",
      "            ..\n",
      "P00121142    1\n",
      "P00027142    1\n",
      "P00346542    1\n",
      "P00209742    1\n",
      "P0097342     1\n",
      "P00147342    1\n",
      "P00288542    1\n",
      "P00043242    1\n",
      "P00183242    1\n",
      "P0099042     1\n",
      "P00280742    1\n",
      "P00032042    1\n",
      "P00173342    1\n",
      "P00022942    1\n",
      "P00129842    1\n",
      "P00331542    1\n",
      "P00222142    1\n",
      "P00145442    1\n",
      "P00304242    1\n",
      "P00019942    1\n",
      "P00275142    1\n",
      "P00079542    1\n",
      "P00110742    1\n",
      "P00117042    1\n",
      "P00279942    1\n",
      "P00163342    1\n",
      "P00208742    1\n",
      "P00199042    1\n",
      "P00100842    1\n",
      "P00020042    1\n",
      "Name: Product_ID, Length: 562, dtype: int64\n",
      "M    508\n",
      "F    212\n",
      "Name: Gender, dtype: int64\n",
      "26-35    243\n",
      "36-45    144\n",
      "18-25    140\n",
      "46-50     99\n",
      "0-17      39\n",
      "51-55     29\n",
      "55+       26\n",
      "Name: Age, dtype: int64\n",
      "4     91\n",
      "17    86\n",
      "3     85\n",
      "1     76\n",
      "0     71\n",
      "7     54\n",
      "10    39\n",
      "2     37\n",
      "12    28\n",
      "9     27\n",
      "15    19\n",
      "16    15\n",
      "14    15\n",
      "19    14\n",
      "13    14\n",
      "11    14\n",
      "8     10\n",
      "18     7\n",
      "20     7\n",
      "6      4\n",
      "-      4\n",
      "5      3\n",
      "Name: Occupation, dtype: int64\n",
      "C    293\n",
      "B    279\n",
      "A    148\n",
      "Name: City_Category, dtype: int64\n",
      "1     219\n",
      "3     168\n",
      "4+    155\n",
      "2      97\n",
      "0      81\n",
      "Name: Stay_In_Current_City_Years, dtype: int64\n"
     ]
    }
   ],
   "source": [
    "df_catg = BlackFriday.select_dtypes(include = 'object')\n",
    "\n",
    "for col in df_catg.columns:\n",
    "    print(df_catg[col].value_counts())"
   ]
  },
  {
   "cell_type": "markdown",
   "metadata": {},
   "source": [
    "* Product_ID is unique for every product and has many distinct values. It wont add much value to our analysis, hence we are dropping it"
   ]
  },
  {
   "cell_type": "code",
   "execution_count": 74,
   "metadata": {},
   "outputs": [
    {
     "data": {
      "text/html": [
       "<div>\n",
       "<style scoped>\n",
       "    .dataframe tbody tr th:only-of-type {\n",
       "        vertical-align: middle;\n",
       "    }\n",
       "\n",
       "    .dataframe tbody tr th {\n",
       "        vertical-align: top;\n",
       "    }\n",
       "\n",
       "    .dataframe thead th {\n",
       "        text-align: right;\n",
       "    }\n",
       "</style>\n",
       "<table border=\"1\" class=\"dataframe\">\n",
       "  <thead>\n",
       "    <tr style=\"text-align: right;\">\n",
       "      <th></th>\n",
       "      <th>Gender</th>\n",
       "      <th>Age</th>\n",
       "      <th>Occupation</th>\n",
       "      <th>City_Category</th>\n",
       "      <th>Stay_In_Current_City_Years</th>\n",
       "    </tr>\n",
       "  </thead>\n",
       "  <tbody>\n",
       "    <tr>\n",
       "      <th>0</th>\n",
       "      <td>F</td>\n",
       "      <td>0-17</td>\n",
       "      <td>10</td>\n",
       "      <td>A</td>\n",
       "      <td>2</td>\n",
       "    </tr>\n",
       "    <tr>\n",
       "      <th>1</th>\n",
       "      <td>F</td>\n",
       "      <td>0-17</td>\n",
       "      <td>10</td>\n",
       "      <td>A</td>\n",
       "      <td>2</td>\n",
       "    </tr>\n",
       "  </tbody>\n",
       "</table>\n",
       "</div>"
      ],
      "text/plain": [
       "  Gender   Age Occupation City_Category Stay_In_Current_City_Years\n",
       "0      F  0-17         10             A                          2\n",
       "1      F  0-17         10             A                          2"
      ]
     },
     "execution_count": 74,
     "metadata": {},
     "output_type": "execute_result"
    }
   ],
   "source": [
    "df_catg = df_catg.drop(columns=['Product_ID'])\n",
    "df_catg.head(2)"
   ]
  },
  {
   "cell_type": "markdown",
   "metadata": {},
   "source": [
    "* We need to encode the categorical varibles to numerical."
   ]
  },
  {
   "cell_type": "code",
   "execution_count": 75,
   "metadata": {},
   "outputs": [
    {
     "data": {
      "text/html": [
       "<div>\n",
       "<style scoped>\n",
       "    .dataframe tbody tr th:only-of-type {\n",
       "        vertical-align: middle;\n",
       "    }\n",
       "\n",
       "    .dataframe tbody tr th {\n",
       "        vertical-align: top;\n",
       "    }\n",
       "\n",
       "    .dataframe thead th {\n",
       "        text-align: right;\n",
       "    }\n",
       "</style>\n",
       "<table border=\"1\" class=\"dataframe\">\n",
       "  <thead>\n",
       "    <tr style=\"text-align: right;\">\n",
       "      <th></th>\n",
       "      <th>Gender_M</th>\n",
       "      <th>Age_18-25</th>\n",
       "      <th>Age_26-35</th>\n",
       "      <th>Age_36-45</th>\n",
       "      <th>Age_46-50</th>\n",
       "      <th>Age_51-55</th>\n",
       "      <th>Age_55+</th>\n",
       "      <th>Occupation_0</th>\n",
       "      <th>Occupation_1</th>\n",
       "      <th>Occupation_10</th>\n",
       "      <th>...</th>\n",
       "      <th>Occupation_6</th>\n",
       "      <th>Occupation_7</th>\n",
       "      <th>Occupation_8</th>\n",
       "      <th>Occupation_9</th>\n",
       "      <th>City_Category_B</th>\n",
       "      <th>City_Category_C</th>\n",
       "      <th>Stay_In_Current_City_Years_1</th>\n",
       "      <th>Stay_In_Current_City_Years_2</th>\n",
       "      <th>Stay_In_Current_City_Years_3</th>\n",
       "      <th>Stay_In_Current_City_Years_4+</th>\n",
       "    </tr>\n",
       "  </thead>\n",
       "  <tbody>\n",
       "    <tr>\n",
       "      <th>0</th>\n",
       "      <td>0</td>\n",
       "      <td>0</td>\n",
       "      <td>0</td>\n",
       "      <td>0</td>\n",
       "      <td>0</td>\n",
       "      <td>0</td>\n",
       "      <td>0</td>\n",
       "      <td>0</td>\n",
       "      <td>0</td>\n",
       "      <td>1</td>\n",
       "      <td>...</td>\n",
       "      <td>0</td>\n",
       "      <td>0</td>\n",
       "      <td>0</td>\n",
       "      <td>0</td>\n",
       "      <td>0</td>\n",
       "      <td>0</td>\n",
       "      <td>0</td>\n",
       "      <td>1</td>\n",
       "      <td>0</td>\n",
       "      <td>0</td>\n",
       "    </tr>\n",
       "    <tr>\n",
       "      <th>1</th>\n",
       "      <td>0</td>\n",
       "      <td>0</td>\n",
       "      <td>0</td>\n",
       "      <td>0</td>\n",
       "      <td>0</td>\n",
       "      <td>0</td>\n",
       "      <td>0</td>\n",
       "      <td>0</td>\n",
       "      <td>0</td>\n",
       "      <td>1</td>\n",
       "      <td>...</td>\n",
       "      <td>0</td>\n",
       "      <td>0</td>\n",
       "      <td>0</td>\n",
       "      <td>0</td>\n",
       "      <td>0</td>\n",
       "      <td>0</td>\n",
       "      <td>0</td>\n",
       "      <td>1</td>\n",
       "      <td>0</td>\n",
       "      <td>0</td>\n",
       "    </tr>\n",
       "  </tbody>\n",
       "</table>\n",
       "<p>2 rows × 34 columns</p>\n",
       "</div>"
      ],
      "text/plain": [
       "   Gender_M  Age_18-25  Age_26-35  Age_36-45  Age_46-50  Age_51-55  Age_55+  \\\n",
       "0         0          0          0          0          0          0        0   \n",
       "1         0          0          0          0          0          0        0   \n",
       "\n",
       "   Occupation_0  Occupation_1  Occupation_10  ...  Occupation_6  Occupation_7  \\\n",
       "0             0             0              1  ...             0             0   \n",
       "1             0             0              1  ...             0             0   \n",
       "\n",
       "   Occupation_8  Occupation_9  City_Category_B  City_Category_C  \\\n",
       "0             0             0                0                0   \n",
       "1             0             0                0                0   \n",
       "\n",
       "   Stay_In_Current_City_Years_1  Stay_In_Current_City_Years_2  \\\n",
       "0                             0                             1   \n",
       "1                             0                             1   \n",
       "\n",
       "   Stay_In_Current_City_Years_3  Stay_In_Current_City_Years_4+  \n",
       "0                             0                              0  \n",
       "1                             0                              0  \n",
       "\n",
       "[2 rows x 34 columns]"
      ]
     },
     "execution_count": 75,
     "metadata": {},
     "output_type": "execute_result"
    }
   ],
   "source": [
    "df_catg_new = pd.get_dummies(df_catg, drop_first=True)\n",
    "\n",
    "df_catg_new.head(2)"
   ]
  },
  {
   "cell_type": "code",
   "execution_count": 76,
   "metadata": {},
   "outputs": [],
   "source": [
    "x = pd.concat([df_num, df_catg_new], axis=1).drop(columns='Purchase')\n",
    "y = df_num['Purchase']"
   ]
  },
  {
   "cell_type": "code",
   "execution_count": 77,
   "metadata": {},
   "outputs": [],
   "source": [
    "from sklearn.model_selection import train_test_split"
   ]
  },
  {
   "cell_type": "code",
   "execution_count": 78,
   "metadata": {},
   "outputs": [],
   "source": [
    "xtrain, xtest, ytrain, ytest = train_test_split(x, y, test_size = 0.3,random_state=0)"
   ]
  },
  {
   "cell_type": "markdown",
   "metadata": {},
   "source": [
    "* We do split so that the data will be split into independent features and dependent features.\n",
    "* We do split so that our data will be split into training and test data.\n",
    "* Models will train on training data, and it willbe tested with testing data. \n",
    "* Perfromance of the model is computed on how it reacts on training data and test data."
   ]
  },
  {
   "cell_type": "markdown",
   "metadata": {},
   "source": [
    "# C,\n",
    "\n",
    "Imbalance in classification problem is present in most of the classification classes. It is the imbalance between the categories of a classification feature (Target variable). \n",
    "\n",
    "Because of which our data will be baised toward a category of thdat dataset.\n",
    "Eg: Lets consider our target variable is classifying Loan approved or Not using the independent features. If the number of records representing Loan not approved is very high compared to Loan approved records, then there will be a biased learning towards Loan not approved case, as the no of record representing that case is high.\n",
    "\n",
    "To counter this situation we use SMOTE .\n",
    "It will overssample the minority case, so that the dataset will become unbaised and the learning will be good.\n",
    "\n",
    "SMOTE (SYntheric minority oversampling technique)\n",
    "\n",
    "from imblearn.over_sampling import SMOTE\n",
    "sm = SMOTE(random_state = 0)\n",
    "xtrain, xtest, ytrain, ytest = s,.fit_sample(xtrain, xtest, ytrain, ytest)\n",
    "\n",
    "This code will do SMOTE and make our data more unbiased.\n",
    "\n",
    "There is another technique called NearMISS. \n",
    "SMOTE will be UP sampling, whereas NearMiss will do down sampling. It will down sample the majoirty category of classification."
   ]
  },
  {
   "cell_type": "code",
   "execution_count": null,
   "metadata": {},
   "outputs": [],
   "source": []
  },
  {
   "cell_type": "markdown",
   "metadata": {},
   "source": [
    "### 3 \"Read the dataset(BlackFriday) answer the questions below\n",
    "  \n",
    " A) How is the purchace between different martial status groups. write your observation? (2 Marks)\n",
    " \n",
    " B) How does the distribution of 'Purchase' look like? Perform a normality test on \"\"Purchase\"\"?(2 Marks)\n",
    " \n",
    " C) How do you handle object variables. Write down the code for the same? (1 Marks)\""
   ]
  },
  {
   "cell_type": "code",
   "execution_count": null,
   "metadata": {},
   "outputs": [],
   "source": []
  },
  {
   "cell_type": "markdown",
   "metadata": {},
   "source": [
    "A, How is the purchace between different martial status groups. write your observation?"
   ]
  },
  {
   "cell_type": "code",
   "execution_count": 81,
   "metadata": {},
   "outputs": [
    {
     "data": {
      "text/html": [
       "<div>\n",
       "<style scoped>\n",
       "    .dataframe tbody tr th:only-of-type {\n",
       "        vertical-align: middle;\n",
       "    }\n",
       "\n",
       "    .dataframe tbody tr th {\n",
       "        vertical-align: top;\n",
       "    }\n",
       "\n",
       "    .dataframe thead th {\n",
       "        text-align: right;\n",
       "    }\n",
       "</style>\n",
       "<table border=\"1\" class=\"dataframe\">\n",
       "  <thead>\n",
       "    <tr style=\"text-align: right;\">\n",
       "      <th></th>\n",
       "      <th>count</th>\n",
       "      <th>mean</th>\n",
       "      <th>std</th>\n",
       "      <th>min</th>\n",
       "      <th>25%</th>\n",
       "      <th>50%</th>\n",
       "      <th>75%</th>\n",
       "      <th>max</th>\n",
       "    </tr>\n",
       "    <tr>\n",
       "      <th>Marital_Status</th>\n",
       "      <th></th>\n",
       "      <th></th>\n",
       "      <th></th>\n",
       "      <th></th>\n",
       "      <th></th>\n",
       "      <th></th>\n",
       "      <th></th>\n",
       "      <th></th>\n",
       "    </tr>\n",
       "  </thead>\n",
       "  <tbody>\n",
       "    <tr>\n",
       "      <th>0</th>\n",
       "      <td>375.0</td>\n",
       "      <td>9703.338667</td>\n",
       "      <td>5259.984912</td>\n",
       "      <td>697.0</td>\n",
       "      <td>5899.5</td>\n",
       "      <td>8159.0</td>\n",
       "      <td>15177.0</td>\n",
       "      <td>23792.0</td>\n",
       "    </tr>\n",
       "    <tr>\n",
       "      <th>1</th>\n",
       "      <td>345.0</td>\n",
       "      <td>9330.513043</td>\n",
       "      <td>4996.775875</td>\n",
       "      <td>584.0</td>\n",
       "      <td>5875.0</td>\n",
       "      <td>8043.0</td>\n",
       "      <td>12409.0</td>\n",
       "      <td>19706.0</td>\n",
       "    </tr>\n",
       "  </tbody>\n",
       "</table>\n",
       "</div>"
      ],
      "text/plain": [
       "                count         mean          std    min     25%     50%  \\\n",
       "Marital_Status                                                           \n",
       "0               375.0  9703.338667  5259.984912  697.0  5899.5  8159.0   \n",
       "1               345.0  9330.513043  4996.775875  584.0  5875.0  8043.0   \n",
       "\n",
       "                    75%      max  \n",
       "Marital_Status                    \n",
       "0               15177.0  23792.0  \n",
       "1               12409.0  19706.0  "
      ]
     },
     "execution_count": 81,
     "metadata": {},
     "output_type": "execute_result"
    }
   ],
   "source": [
    "BlackFriday.groupby(by= 'Marital_Status').describe()['Purchase']"
   ]
  },
  {
   "cell_type": "markdown",
   "metadata": {},
   "source": [
    "* There are two marital_status, 0 and 1.\n",
    "* The count of marital_status 0 is 375, whereas marital_status 1 is 345\n",
    "* It is observed that population of marital_status 0 purchases more compared to marital_status 1. Though the difference is very minimum, group 0 has purchases more compared to group 1.\n",
    "* group 0 has purchased max of 23792 whereas group 0 max is 19706"
   ]
  },
  {
   "cell_type": "markdown",
   "metadata": {},
   "source": [
    "B, How does the distribution of 'Purchase' look like? Perform a normality test on \"\"Purchase\"\"?"
   ]
  },
  {
   "cell_type": "code",
   "execution_count": 83,
   "metadata": {},
   "outputs": [
    {
     "data": {
      "image/png": "[encoded data removed]",
      "text/plain": [
       "<Figure size 432x288 with 1 Axes>"
      ]
     },
     "metadata": {
      "needs_background": "light"
     },
     "output_type": "display_data"
    }
   ],
   "source": [
    "sns.distplot(BlackFriday['Purchase'])\n",
    "plt.show()"
   ]
  },
  {
   "cell_type": "code",
   "execution_count": 85,
   "metadata": {},
   "outputs": [
    {
     "data": {
      "text/plain": [
       "0.4821593260161291"
      ]
     },
     "execution_count": 85,
     "metadata": {},
     "output_type": "execute_result"
    }
   ],
   "source": [
    "BlackFriday['Purchase'].skew()"
   ]
  },
  {
   "cell_type": "code",
   "execution_count": 87,
   "metadata": {},
   "outputs": [
    {
     "data": {
      "text/plain": [
       "(0.9510932564735413, 1.0362011541777821e-14)"
      ]
     },
     "execution_count": 87,
     "metadata": {},
     "output_type": "execute_result"
    }
   ],
   "source": [
    "from scipy.stats import shapiro\n",
    "shapiro(BlackFriday['Purchase'])"
   ]
  },
  {
   "cell_type": "markdown",
   "metadata": {},
   "source": [
    "* It is very evident that the data is NOT Normal. The distplot has 2-3 peaks, it is quite skewed towards right. We have confirmed it by checking the skewness and also doing the shapiro test (test of normality, pval < 0.05).\n",
    "* The pcal in shapiro test is 1.03 e-14, whicih is less tahn 0.05, means it reject NULL hypothesis. Hence our data is NOT NORMAL ( data is skewed)."
   ]
  },
  {
   "cell_type": "markdown",
   "metadata": {},
   "source": [
    " C) How do you handle object variables. Write down the code for the same? "
   ]
  },
  {
   "cell_type": "markdown",
   "metadata": {},
   "source": [
    "We handle object variables by doing encoding.\n",
    "* Machine learning algorithms doesnt understand object varible, hence we need to encode them to numerical values. \n",
    "* It can be achieved by either doing label encoding or one hot encoding or replcae or get_dummies.\n",
    "\n",
    "\n",
    "Eg:- Lets consider get_dummies method to convert object variable to numerical."
   ]
  },
  {
   "cell_type": "code",
   "execution_count": 88,
   "metadata": {},
   "outputs": [
    {
     "data": {
      "text/html": [
       "<div>\n",
       "<style scoped>\n",
       "    .dataframe tbody tr th:only-of-type {\n",
       "        vertical-align: middle;\n",
       "    }\n",
       "\n",
       "    .dataframe tbody tr th {\n",
       "        vertical-align: top;\n",
       "    }\n",
       "\n",
       "    .dataframe thead th {\n",
       "        text-align: right;\n",
       "    }\n",
       "</style>\n",
       "<table border=\"1\" class=\"dataframe\">\n",
       "  <thead>\n",
       "    <tr style=\"text-align: right;\">\n",
       "      <th></th>\n",
       "      <th>age</th>\n",
       "      <th>Gender</th>\n",
       "    </tr>\n",
       "  </thead>\n",
       "  <tbody>\n",
       "    <tr>\n",
       "      <th>0</th>\n",
       "      <td>25</td>\n",
       "      <td>Male</td>\n",
       "    </tr>\n",
       "    <tr>\n",
       "      <th>1</th>\n",
       "      <td>35</td>\n",
       "      <td>Female</td>\n",
       "    </tr>\n",
       "    <tr>\n",
       "      <th>2</th>\n",
       "      <td>24</td>\n",
       "      <td>Female</td>\n",
       "    </tr>\n",
       "    <tr>\n",
       "      <th>3</th>\n",
       "      <td>45</td>\n",
       "      <td>Male</td>\n",
       "    </tr>\n",
       "  </tbody>\n",
       "</table>\n",
       "</div>"
      ],
      "text/plain": [
       "   age  Gender\n",
       "0   25    Male\n",
       "1   35  Female\n",
       "2   24  Female\n",
       "3   45    Male"
      ]
     },
     "execution_count": 88,
     "metadata": {},
     "output_type": "execute_result"
    }
   ],
   "source": [
    "df = pd.DataFrame({'age' : [25,35,24,45], 'Gender' : ['Male', 'Female', \"Female\", 'Male']})\n",
    "df"
   ]
  },
  {
   "cell_type": "code",
   "execution_count": 89,
   "metadata": {},
   "outputs": [
    {
     "data": {
      "text/html": [
       "<div>\n",
       "<style scoped>\n",
       "    .dataframe tbody tr th:only-of-type {\n",
       "        vertical-align: middle;\n",
       "    }\n",
       "\n",
       "    .dataframe tbody tr th {\n",
       "        vertical-align: top;\n",
       "    }\n",
       "\n",
       "    .dataframe thead th {\n",
       "        text-align: right;\n",
       "    }\n",
       "</style>\n",
       "<table border=\"1\" class=\"dataframe\">\n",
       "  <thead>\n",
       "    <tr style=\"text-align: right;\">\n",
       "      <th></th>\n",
       "      <th>Female</th>\n",
       "      <th>Male</th>\n",
       "    </tr>\n",
       "  </thead>\n",
       "  <tbody>\n",
       "    <tr>\n",
       "      <th>0</th>\n",
       "      <td>0</td>\n",
       "      <td>1</td>\n",
       "    </tr>\n",
       "    <tr>\n",
       "      <th>1</th>\n",
       "      <td>1</td>\n",
       "      <td>0</td>\n",
       "    </tr>\n",
       "    <tr>\n",
       "      <th>2</th>\n",
       "      <td>1</td>\n",
       "      <td>0</td>\n",
       "    </tr>\n",
       "    <tr>\n",
       "      <th>3</th>\n",
       "      <td>0</td>\n",
       "      <td>1</td>\n",
       "    </tr>\n",
       "  </tbody>\n",
       "</table>\n",
       "</div>"
      ],
      "text/plain": [
       "   Female  Male\n",
       "0       0     1\n",
       "1       1     0\n",
       "2       1     0\n",
       "3       0     1"
      ]
     },
     "execution_count": 89,
     "metadata": {},
     "output_type": "execute_result"
    }
   ],
   "source": [
    "pd.get_dummies(df['Gender'])"
   ]
  },
  {
   "cell_type": "markdown",
   "metadata": {},
   "source": [
    "Using getdummies, we have converted Female and Male categories into two columns and assigned 1 wherever they are present."
   ]
  },
  {
   "cell_type": "code",
   "execution_count": null,
   "metadata": {},
   "outputs": [],
   "source": []
  },
  {
   "cell_type": "markdown",
   "metadata": {},
   "source": [
    "### 4 \"Read the dataset(BlackFriday) answer the questions below\n",
    "  \n",
    " A) Check for Null Values.(1 Marks)\n",
    " \n",
    " B) Treat the Null values and also state the reason for the method used(2 Marks)\n",
    " \n",
    "C) Display the barplot using gender vs Purchase.Write your observation?  (2 Marks)"
   ]
  },
  {
   "cell_type": "markdown",
   "metadata": {},
   "source": [
    "A, Check for Null Values"
   ]
  },
  {
   "cell_type": "code",
   "execution_count": 94,
   "metadata": {},
   "outputs": [
    {
     "data": {
      "text/plain": [
       "User_ID                        0.000000\n",
       "Product_ID                     0.000000\n",
       "Gender                         0.000000\n",
       "Age                            0.000000\n",
       "Occupation                     0.000000\n",
       "City_Category                  0.000000\n",
       "Stay_In_Current_City_Years     0.000000\n",
       "Marital_Status                 0.000000\n",
       "Product_Category_1             0.000000\n",
       "Product_Category_2            28.888889\n",
       "Product_Category_3            67.500000\n",
       "Purchase                       0.000000\n",
       "dtype: float64"
      ]
     },
     "execution_count": 94,
     "metadata": {},
     "output_type": "execute_result"
    }
   ],
   "source": [
    "BlackFriday.isna().sum() / len(BlackFriday) * 100"
   ]
  },
  {
   "cell_type": "markdown",
   "metadata": {},
   "source": [
    " B) Treat the Null values and also state the reason for the method used"
   ]
  },
  {
   "cell_type": "code",
   "execution_count": 93,
   "metadata": {},
   "outputs": [
    {
     "data": {
      "text/plain": [
       "(numpy.float64, numpy.float64)"
      ]
     },
     "execution_count": 93,
     "metadata": {},
     "output_type": "execute_result"
    }
   ],
   "source": [
    "# We found missing values in Product_Category_2 and Product_Category_3 column.\n",
    "type(BlackFriday['Product_Category_2'][0]), type(BlackFriday['Product_Category_3'][0])"
   ]
  },
  {
   "cell_type": "markdown",
   "metadata": {},
   "source": [
    "* Both the features are of type FLOAT. SO we use MEDIAN imputation to treat them. It is because, MEAN will be influenced by the values of that columns. Whereas MEDAIN is positional shift hence it wont get much influecned compared to MEAN."
   ]
  },
  {
   "cell_type": "code",
   "execution_count": 95,
   "metadata": {},
   "outputs": [
    {
     "data": {
      "text/plain": [
       "(9.61328125, 8.0)"
      ]
     },
     "execution_count": 95,
     "metadata": {},
     "output_type": "execute_result"
    }
   ],
   "source": [
    "BlackFriday['Product_Category_2'].mean(), BlackFriday['Product_Category_2'].median()"
   ]
  },
  {
   "cell_type": "code",
   "execution_count": 96,
   "metadata": {},
   "outputs": [
    {
     "data": {
      "text/plain": [
       "(12.551282051282051, 14.0)"
      ]
     },
     "execution_count": 96,
     "metadata": {},
     "output_type": "execute_result"
    }
   ],
   "source": [
    "BlackFriday['Product_Category_3'].mean(), BlackFriday['Product_Category_3'].median()"
   ]
  },
  {
   "cell_type": "markdown",
   "metadata": {},
   "source": [
    "* We can see the difference between the MEAN and the MEDIAN. Hence we go for MEDIAN imputation."
   ]
  },
  {
   "cell_type": "code",
   "execution_count": 97,
   "metadata": {},
   "outputs": [],
   "source": [
    "BlackFriday['Product_Category_2'].fillna(BlackFriday['Product_Category_2'].median(), inplace= True)\n",
    "BlackFriday['Product_Category_3'].fillna(BlackFriday['Product_Category_3'].median(), inplace= True)"
   ]
  },
  {
   "cell_type": "code",
   "execution_count": 98,
   "metadata": {},
   "outputs": [
    {
     "data": {
      "text/plain": [
       "User_ID                       0\n",
       "Product_ID                    0\n",
       "Gender                        0\n",
       "Age                           0\n",
       "Occupation                    0\n",
       "City_Category                 0\n",
       "Stay_In_Current_City_Years    0\n",
       "Marital_Status                0\n",
       "Product_Category_1            0\n",
       "Product_Category_2            0\n",
       "Product_Category_3            0\n",
       "Purchase                      0\n",
       "dtype: int64"
      ]
     },
     "execution_count": 98,
     "metadata": {},
     "output_type": "execute_result"
    }
   ],
   "source": [
    "BlackFriday.isna().sum()"
   ]
  },
  {
   "cell_type": "markdown",
   "metadata": {},
   "source": [
    "NULL values have been imputed successfully."
   ]
  },
  {
   "cell_type": "markdown",
   "metadata": {},
   "source": [
    "C) Display the barplot using gender vs Purchase.Write your observation?"
   ]
  },
  {
   "cell_type": "code",
   "execution_count": 103,
   "metadata": {},
   "outputs": [
    {
     "data": {
      "image/png": "[encoded data removed]",
      "text/plain": [
       "<Figure size 432x288 with 1 Axes>"
      ]
     },
     "metadata": {
      "needs_background": "light"
     },
     "output_type": "display_data"
    }
   ],
   "source": [
    "sns.barplot(BlackFriday['Gender'], BlackFriday['Purchase'])\n",
    "plt.show()"
   ]
  },
  {
   "cell_type": "markdown",
   "metadata": {},
   "source": [
    "* The sum of male purchase is higher than Female purchase. \n",
    "* Male have purhcases close to MEAN of 10000 whereas female purchase close MEAN of to 9000.\n",
    "* The black line suggest the 95% CI of the mean of female and male purchases respectively.\n",
    "\n",
    "In simpe terms, Mean of MALE purchase is greater than MEAN of female purchase where each male purchasees close to 10000 whereas female purchase close to 9000."
   ]
  },
  {
   "cell_type": "code",
   "execution_count": null,
   "metadata": {},
   "outputs": [],
   "source": []
  },
  {
   "cell_type": "markdown",
   "metadata": {},
   "source": [
    "# SECTION B: 20 MARKS"
   ]
  },
  {
   "cell_type": "markdown",
   "metadata": {},
   "source": [
    " _________________"
   ]
  },
  {
   "cell_type": "markdown",
   "metadata": {},
   "source": [
    "### 5. load the dataset 'Accidents'\n",
    "  \n",
    "  \n",
    " A. Display the total count of each state (in desc order) and display its corresponding bar plot (3 MARKS)\n",
    "  \n",
    " B. Create a dataframe with only the top 5 cities and display its corresponding bar plot (5 marks) ?\n",
    "  \n",
    " C. Find which particular city contributes the most occurence of accidents in the state[FL]. (2 marks)"
   ]
  },
  {
   "cell_type": "code",
   "execution_count": 105,
   "metadata": {},
   "outputs": [
    {
     "data": {
      "text/html": [
       "<div>\n",
       "<style scoped>\n",
       "    .dataframe tbody tr th:only-of-type {\n",
       "        vertical-align: middle;\n",
       "    }\n",
       "\n",
       "    .dataframe tbody tr th {\n",
       "        vertical-align: top;\n",
       "    }\n",
       "\n",
       "    .dataframe thead th {\n",
       "        text-align: right;\n",
       "    }\n",
       "</style>\n",
       "<table border=\"1\" class=\"dataframe\">\n",
       "  <thead>\n",
       "    <tr style=\"text-align: right;\">\n",
       "      <th></th>\n",
       "      <th>ID</th>\n",
       "      <th>TMC</th>\n",
       "      <th>Severity</th>\n",
       "      <th>Start_Time</th>\n",
       "      <th>End_Time</th>\n",
       "      <th>Distance(mi)</th>\n",
       "      <th>Number</th>\n",
       "      <th>Side</th>\n",
       "      <th>City</th>\n",
       "      <th>County</th>\n",
       "      <th>...</th>\n",
       "      <th>Weather_Timestamp</th>\n",
       "      <th>Temperature(F)</th>\n",
       "      <th>Wind_Chill(F)</th>\n",
       "      <th>Humidity(%)</th>\n",
       "      <th>Pressure(in)</th>\n",
       "      <th>Visibility(mi)</th>\n",
       "      <th>Wind_Direction</th>\n",
       "      <th>Wind_Speed(mph)</th>\n",
       "      <th>Precipitation(in)</th>\n",
       "      <th>Weather_Condition</th>\n",
       "    </tr>\n",
       "  </thead>\n",
       "  <tbody>\n",
       "    <tr>\n",
       "      <th>0</th>\n",
       "      <td>A-102</td>\n",
       "      <td>241</td>\n",
       "      <td>2</td>\n",
       "      <td>11-02-2016 08:34</td>\n",
       "      <td>11-02-2016 09:04</td>\n",
       "      <td>0.48</td>\n",
       "      <td>NaN</td>\n",
       "      <td>R</td>\n",
       "      <td>Columbus</td>\n",
       "      <td>Franklin</td>\n",
       "      <td>...</td>\n",
       "      <td>11-02-2016 08:53</td>\n",
       "      <td>12.0</td>\n",
       "      <td>1.5</td>\n",
       "      <td>77.0</td>\n",
       "      <td>30.26</td>\n",
       "      <td>10.0</td>\n",
       "      <td>West</td>\n",
       "      <td>6.9</td>\n",
       "      <td>NaN</td>\n",
       "      <td>Overcast</td>\n",
       "    </tr>\n",
       "    <tr>\n",
       "      <th>1</th>\n",
       "      <td>A-121</td>\n",
       "      <td>201</td>\n",
       "      <td>3</td>\n",
       "      <td>11-02-2016 19:22</td>\n",
       "      <td>11-02-2016 21:00</td>\n",
       "      <td>0.01</td>\n",
       "      <td>NaN</td>\n",
       "      <td>R</td>\n",
       "      <td>Columbus</td>\n",
       "      <td>Franklin</td>\n",
       "      <td>...</td>\n",
       "      <td>11-02-2016 19:51</td>\n",
       "      <td>17.1</td>\n",
       "      <td>11.7</td>\n",
       "      <td>62.0</td>\n",
       "      <td>30.35</td>\n",
       "      <td>10.0</td>\n",
       "      <td>SW</td>\n",
       "      <td>3.5</td>\n",
       "      <td>0.0</td>\n",
       "      <td>Mostly Cloudy</td>\n",
       "    </tr>\n",
       "  </tbody>\n",
       "</table>\n",
       "<p>2 rows × 22 columns</p>\n",
       "</div>"
      ],
      "text/plain": [
       "      ID  TMC  Severity        Start_Time          End_Time  Distance(mi)  \\\n",
       "0  A-102  241         2  11-02-2016 08:34  11-02-2016 09:04          0.48   \n",
       "1  A-121  201         3  11-02-2016 19:22  11-02-2016 21:00          0.01   \n",
       "\n",
       "   Number Side      City    County  ... Weather_Timestamp Temperature(F)  \\\n",
       "0     NaN    R  Columbus  Franklin  ...  11-02-2016 08:53           12.0   \n",
       "1     NaN    R  Columbus  Franklin  ...  11-02-2016 19:51           17.1   \n",
       "\n",
       "  Wind_Chill(F)  Humidity(%)  Pressure(in)  Visibility(mi)  Wind_Direction  \\\n",
       "0           1.5         77.0         30.26            10.0            West   \n",
       "1          11.7         62.0         30.35            10.0              SW   \n",
       "\n",
       "   Wind_Speed(mph) Precipitation(in)  Weather_Condition  \n",
       "0              6.9               NaN           Overcast  \n",
       "1              3.5               0.0      Mostly Cloudy  \n",
       "\n",
       "[2 rows x 22 columns]"
      ]
     },
     "execution_count": 105,
     "metadata": {},
     "output_type": "execute_result"
    }
   ],
   "source": [
    "Accidents.head(2)"
   ]
  },
  {
   "cell_type": "markdown",
   "metadata": {},
   "source": [
    "A. Display the total count of each state (in desc order) and display its corresponding bar plot"
   ]
  },
  {
   "cell_type": "code",
   "execution_count": 108,
   "metadata": {},
   "outputs": [
    {
     "data": {
      "text/plain": [
       "FL    583\n",
       "GA     77\n",
       "CA     46\n",
       "OH     14\n",
       "Name: State, dtype: int64"
      ]
     },
     "execution_count": 108,
     "metadata": {},
     "output_type": "execute_result"
    }
   ],
   "source": [
    "Accidents['State'].value_counts()"
   ]
  },
  {
   "cell_type": "code",
   "execution_count": 109,
   "metadata": {},
   "outputs": [
    {
     "data": {
      "image/png": "[encoded data removed]",
      "text/plain": [
       "<Figure size 432x288 with 1 Axes>"
      ]
     },
     "metadata": {
      "needs_background": "light"
     },
     "output_type": "display_data"
    }
   ],
   "source": [
    "sns.countplot(Accidents['State'])\n",
    "plt.show()"
   ]
  },
  {
   "cell_type": "markdown",
   "metadata": {},
   "source": [
    "* The state FL contrinutes the highest to the Accidents with 583 accidents, followed by GA with 77, CA with 46 and OH with 14."
   ]
  },
  {
   "cell_type": "markdown",
   "metadata": {},
   "source": [
    "B. Create a dataframe with only the top 5 cities and display its corresponding bar plot "
   ]
  },
  {
   "cell_type": "code",
   "execution_count": 116,
   "metadata": {},
   "outputs": [
    {
     "data": {
      "text/plain": [
       "Miami              116\n",
       "Orlando             86\n",
       "Tampa               44\n",
       "Fort Lauderdale     43\n",
       "Atlanta             33\n",
       "Name: City, dtype: int64"
      ]
     },
     "execution_count": 116,
     "metadata": {},
     "output_type": "execute_result"
    }
   ],
   "source": [
    "Accidents['City'].value_counts().head(5)"
   ]
  },
  {
   "cell_type": "markdown",
   "metadata": {},
   "source": [
    "* These are the top 5 cities with highest accidents."
   ]
  },
  {
   "cell_type": "code",
   "execution_count": 117,
   "metadata": {},
   "outputs": [
    {
     "data": {
      "text/plain": [
       "Index(['Miami', 'Orlando', 'Tampa', 'Fort Lauderdale', 'Atlanta'], dtype='object')"
      ]
     },
     "execution_count": 117,
     "metadata": {},
     "output_type": "execute_result"
    }
   ],
   "source": [
    "top5 = Accidents['City'].value_counts().head(5).index\n",
    "top5"
   ]
  },
  {
   "cell_type": "code",
   "execution_count": 133,
   "metadata": {},
   "outputs": [],
   "source": [
    "Accidents_top5 = Accidents[(Accidents['City']== 'Miami') | (Accidents['City']== 'Orlando') | (Accidents['City']=='Tampa') | (Accidents['City']=='Fort Lauderdale') | (Accidents['City']=='Atlanta')]"
   ]
  },
  {
   "cell_type": "code",
   "execution_count": 134,
   "metadata": {},
   "outputs": [
    {
     "data": {
      "text/html": [
       "<div>\n",
       "<style scoped>\n",
       "    .dataframe tbody tr th:only-of-type {\n",
       "        vertical-align: middle;\n",
       "    }\n",
       "\n",
       "    .dataframe tbody tr th {\n",
       "        vertical-align: top;\n",
       "    }\n",
       "\n",
       "    .dataframe thead th {\n",
       "        text-align: right;\n",
       "    }\n",
       "</style>\n",
       "<table border=\"1\" class=\"dataframe\">\n",
       "  <thead>\n",
       "    <tr style=\"text-align: right;\">\n",
       "      <th></th>\n",
       "      <th>ID</th>\n",
       "      <th>TMC</th>\n",
       "      <th>Severity</th>\n",
       "      <th>Start_Time</th>\n",
       "      <th>End_Time</th>\n",
       "      <th>Distance(mi)</th>\n",
       "      <th>Number</th>\n",
       "      <th>Side</th>\n",
       "      <th>City</th>\n",
       "      <th>County</th>\n",
       "      <th>...</th>\n",
       "      <th>Weather_Timestamp</th>\n",
       "      <th>Temperature(F)</th>\n",
       "      <th>Wind_Chill(F)</th>\n",
       "      <th>Humidity(%)</th>\n",
       "      <th>Pressure(in)</th>\n",
       "      <th>Visibility(mi)</th>\n",
       "      <th>Wind_Direction</th>\n",
       "      <th>Wind_Speed(mph)</th>\n",
       "      <th>Precipitation(in)</th>\n",
       "      <th>Weather_Condition</th>\n",
       "    </tr>\n",
       "  </thead>\n",
       "  <tbody>\n",
       "    <tr>\n",
       "      <th>62</th>\n",
       "      <td>A-116214</td>\n",
       "      <td>201</td>\n",
       "      <td>3</td>\n",
       "      <td>01-12-2016 10:50</td>\n",
       "      <td>01-12-2016 11:20</td>\n",
       "      <td>0.01</td>\n",
       "      <td>NaN</td>\n",
       "      <td>R</td>\n",
       "      <td>Orlando</td>\n",
       "      <td>Orange</td>\n",
       "      <td>...</td>\n",
       "      <td>01-12-2016 10:53</td>\n",
       "      <td>80.1</td>\n",
       "      <td>NaN</td>\n",
       "      <td>74.0</td>\n",
       "      <td>30.01</td>\n",
       "      <td>10.0</td>\n",
       "      <td>WSW</td>\n",
       "      <td>13.8</td>\n",
       "      <td>NaN</td>\n",
       "      <td>Mostly Cloudy</td>\n",
       "    </tr>\n",
       "    <tr>\n",
       "      <th>63</th>\n",
       "      <td>A-116260</td>\n",
       "      <td>201</td>\n",
       "      <td>2</td>\n",
       "      <td>01-12-2016 16:23</td>\n",
       "      <td>01-12-2016 17:05</td>\n",
       "      <td>0.01</td>\n",
       "      <td>NaN</td>\n",
       "      <td>R</td>\n",
       "      <td>Tampa</td>\n",
       "      <td>Hillsborough</td>\n",
       "      <td>...</td>\n",
       "      <td>01-12-2016 15:53</td>\n",
       "      <td>80.1</td>\n",
       "      <td>NaN</td>\n",
       "      <td>67.0</td>\n",
       "      <td>29.96</td>\n",
       "      <td>10.0</td>\n",
       "      <td>West</td>\n",
       "      <td>6.9</td>\n",
       "      <td>NaN</td>\n",
       "      <td>Partly Cloudy</td>\n",
       "    </tr>\n",
       "  </tbody>\n",
       "</table>\n",
       "<p>2 rows × 22 columns</p>\n",
       "</div>"
      ],
      "text/plain": [
       "          ID  TMC  Severity        Start_Time          End_Time  Distance(mi)  \\\n",
       "62  A-116214  201         3  01-12-2016 10:50  01-12-2016 11:20          0.01   \n",
       "63  A-116260  201         2  01-12-2016 16:23  01-12-2016 17:05          0.01   \n",
       "\n",
       "    Number Side     City        County  ... Weather_Timestamp Temperature(F)  \\\n",
       "62     NaN    R  Orlando        Orange  ...  01-12-2016 10:53           80.1   \n",
       "63     NaN    R    Tampa  Hillsborough  ...  01-12-2016 15:53           80.1   \n",
       "\n",
       "   Wind_Chill(F)  Humidity(%)  Pressure(in)  Visibility(mi)  Wind_Direction  \\\n",
       "62           NaN         74.0         30.01            10.0             WSW   \n",
       "63           NaN         67.0         29.96            10.0            West   \n",
       "\n",
       "    Wind_Speed(mph) Precipitation(in)  Weather_Condition  \n",
       "62             13.8               NaN      Mostly Cloudy  \n",
       "63              6.9               NaN      Partly Cloudy  \n",
       "\n",
       "[2 rows x 22 columns]"
      ]
     },
     "execution_count": 134,
     "metadata": {},
     "output_type": "execute_result"
    }
   ],
   "source": [
    "Accidents_top5.head(2)"
   ]
  },
  {
   "cell_type": "code",
   "execution_count": 135,
   "metadata": {},
   "outputs": [
    {
     "data": {
      "image/png": "[encoded data removed]",
      "text/plain": [
       "<Figure size 432x288 with 1 Axes>"
      ]
     },
     "metadata": {
      "needs_background": "light"
     },
     "output_type": "display_data"
    }
   ],
   "source": [
    "sns.countplot(Accidents_top5['City'])\n",
    "plt.show()"
   ]
  },
  {
   "cell_type": "markdown",
   "metadata": {},
   "source": [
    " C. Find which particular city contributes the most occurence of accidents in the state[FL]."
   ]
  },
  {
   "cell_type": "code",
   "execution_count": 111,
   "metadata": {},
   "outputs": [
    {
     "data": {
      "text/plain": [
       "Miami              116\n",
       "Orlando             86\n",
       "Tampa               44\n",
       "Fort Lauderdale     43\n",
       "West Palm Beach     17\n",
       "Name: City, dtype: int64"
      ]
     },
     "execution_count": 111,
     "metadata": {},
     "output_type": "execute_result"
    }
   ],
   "source": [
    "Accidents[Accidents['State']=='FL']['City'].value_counts().head() \n",
    "# we take head as we want only those at the top."
   ]
  },
  {
   "cell_type": "code",
   "execution_count": 112,
   "metadata": {},
   "outputs": [
    {
     "data": {
      "image/png": "[encoded data removed]",
      "text/plain": [
       "<Figure size 432x288 with 1 Axes>"
      ]
     },
     "metadata": {
      "needs_background": "light"
     },
     "output_type": "display_data"
    }
   ],
   "source": [
    "Accidents[Accidents['State']=='FL']['City'].value_counts().head().plot(kind='bar')\n",
    "plt.show()"
   ]
  },
  {
   "cell_type": "markdown",
   "metadata": {},
   "source": [
    "* It is found that city 'MIAMI' contributes the most occurence of accidents in the state 'FL' with 1116 accidents."
   ]
  },
  {
   "cell_type": "code",
   "execution_count": null,
   "metadata": {},
   "outputs": [],
   "source": []
  },
  {
   "cell_type": "markdown",
   "metadata": {},
   "source": [
    "### 6. Load the dataset 'Accidents'\n",
    "  \n",
    "  \n",
    " a. Plot the count of the severity levels of accidents that are occurring, provide observations (2 MARKS)\n",
    "  \n",
    " b. Plot top 4 weather conditions causing an accident in terms of percentage(%). (3 MARKS)\n",
    "  \n",
    " c. Create a new column called `year` by extracting year from `Start_Time` column.(2 marks)\n",
    "  \n",
    " d. Using a trend chart state the `time period [months]` in which more number of accidents occured (3 marks)"
   ]
  },
  {
   "cell_type": "code",
   "execution_count": 136,
   "metadata": {},
   "outputs": [
    {
     "data": {
      "text/html": [
       "<div>\n",
       "<style scoped>\n",
       "    .dataframe tbody tr th:only-of-type {\n",
       "        vertical-align: middle;\n",
       "    }\n",
       "\n",
       "    .dataframe tbody tr th {\n",
       "        vertical-align: top;\n",
       "    }\n",
       "\n",
       "    .dataframe thead th {\n",
       "        text-align: right;\n",
       "    }\n",
       "</style>\n",
       "<table border=\"1\" class=\"dataframe\">\n",
       "  <thead>\n",
       "    <tr style=\"text-align: right;\">\n",
       "      <th></th>\n",
       "      <th>ID</th>\n",
       "      <th>TMC</th>\n",
       "      <th>Severity</th>\n",
       "      <th>Start_Time</th>\n",
       "      <th>End_Time</th>\n",
       "      <th>Distance(mi)</th>\n",
       "      <th>Number</th>\n",
       "      <th>Side</th>\n",
       "      <th>City</th>\n",
       "      <th>County</th>\n",
       "      <th>...</th>\n",
       "      <th>Weather_Timestamp</th>\n",
       "      <th>Temperature(F)</th>\n",
       "      <th>Wind_Chill(F)</th>\n",
       "      <th>Humidity(%)</th>\n",
       "      <th>Pressure(in)</th>\n",
       "      <th>Visibility(mi)</th>\n",
       "      <th>Wind_Direction</th>\n",
       "      <th>Wind_Speed(mph)</th>\n",
       "      <th>Precipitation(in)</th>\n",
       "      <th>Weather_Condition</th>\n",
       "    </tr>\n",
       "  </thead>\n",
       "  <tbody>\n",
       "    <tr>\n",
       "      <th>0</th>\n",
       "      <td>A-102</td>\n",
       "      <td>241</td>\n",
       "      <td>2</td>\n",
       "      <td>11-02-2016 08:34</td>\n",
       "      <td>11-02-2016 09:04</td>\n",
       "      <td>0.48</td>\n",
       "      <td>NaN</td>\n",
       "      <td>R</td>\n",
       "      <td>Columbus</td>\n",
       "      <td>Franklin</td>\n",
       "      <td>...</td>\n",
       "      <td>11-02-2016 08:53</td>\n",
       "      <td>12.0</td>\n",
       "      <td>1.5</td>\n",
       "      <td>77.0</td>\n",
       "      <td>30.26</td>\n",
       "      <td>10.0</td>\n",
       "      <td>West</td>\n",
       "      <td>6.9</td>\n",
       "      <td>NaN</td>\n",
       "      <td>Overcast</td>\n",
       "    </tr>\n",
       "    <tr>\n",
       "      <th>1</th>\n",
       "      <td>A-121</td>\n",
       "      <td>201</td>\n",
       "      <td>3</td>\n",
       "      <td>11-02-2016 19:22</td>\n",
       "      <td>11-02-2016 21:00</td>\n",
       "      <td>0.01</td>\n",
       "      <td>NaN</td>\n",
       "      <td>R</td>\n",
       "      <td>Columbus</td>\n",
       "      <td>Franklin</td>\n",
       "      <td>...</td>\n",
       "      <td>11-02-2016 19:51</td>\n",
       "      <td>17.1</td>\n",
       "      <td>11.7</td>\n",
       "      <td>62.0</td>\n",
       "      <td>30.35</td>\n",
       "      <td>10.0</td>\n",
       "      <td>SW</td>\n",
       "      <td>3.5</td>\n",
       "      <td>0.0</td>\n",
       "      <td>Mostly Cloudy</td>\n",
       "    </tr>\n",
       "  </tbody>\n",
       "</table>\n",
       "<p>2 rows × 22 columns</p>\n",
       "</div>"
      ],
      "text/plain": [
       "      ID  TMC  Severity        Start_Time          End_Time  Distance(mi)  \\\n",
       "0  A-102  241         2  11-02-2016 08:34  11-02-2016 09:04          0.48   \n",
       "1  A-121  201         3  11-02-2016 19:22  11-02-2016 21:00          0.01   \n",
       "\n",
       "   Number Side      City    County  ... Weather_Timestamp Temperature(F)  \\\n",
       "0     NaN    R  Columbus  Franklin  ...  11-02-2016 08:53           12.0   \n",
       "1     NaN    R  Columbus  Franklin  ...  11-02-2016 19:51           17.1   \n",
       "\n",
       "  Wind_Chill(F)  Humidity(%)  Pressure(in)  Visibility(mi)  Wind_Direction  \\\n",
       "0           1.5         77.0         30.26            10.0            West   \n",
       "1          11.7         62.0         30.35            10.0              SW   \n",
       "\n",
       "   Wind_Speed(mph) Precipitation(in)  Weather_Condition  \n",
       "0              6.9               NaN           Overcast  \n",
       "1              3.5               0.0      Mostly Cloudy  \n",
       "\n",
       "[2 rows x 22 columns]"
      ]
     },
     "execution_count": 136,
     "metadata": {},
     "output_type": "execute_result"
    }
   ],
   "source": [
    "Accidents.head(2)"
   ]
  },
  {
   "cell_type": "markdown",
   "metadata": {},
   "source": [
    "a. Plot the count of the severity levels of accidents that are occurring, provide observations"
   ]
  },
  {
   "cell_type": "code",
   "execution_count": 138,
   "metadata": {},
   "outputs": [
    {
     "data": {
      "text/plain": [
       "2    402\n",
       "3    317\n",
       "4      1\n",
       "Name: Severity, dtype: int64"
      ]
     },
     "execution_count": 138,
     "metadata": {},
     "output_type": "execute_result"
    }
   ],
   "source": [
    "Accidents['Severity'].value_counts()"
   ]
  },
  {
   "cell_type": "code",
   "execution_count": 139,
   "metadata": {},
   "outputs": [
    {
     "data": {
      "image/png": "[encoded data removed]",
      "text/plain": [
       "<Figure size 432x288 with 1 Axes>"
      ]
     },
     "metadata": {
      "needs_background": "light"
     },
     "output_type": "display_data"
    }
   ],
   "source": [
    "sns.countplot(Accidents['Severity'])\n",
    "plt.show()"
   ]
  },
  {
   "cell_type": "markdown",
   "metadata": {},
   "source": [
    "* It is observed that there is NO 1 Severity accidents.\n",
    "* The highest count is observed for 2 severity accidents, which is quite acceptable since it doesn't cause much damage to traffic.\n",
    "* It is worrying to see 317 counts for severity 3 accidents which could have travelled fellow passerby to a greater extent.\n",
    "* One very severe accident has happened."
   ]
  },
  {
   "cell_type": "markdown",
   "metadata": {},
   "source": [
    " b. Plot top 4 weather conditions causing an accident in terms of percentage(%)."
   ]
  },
  {
   "cell_type": "code",
   "execution_count": 169,
   "metadata": {},
   "outputs": [
    {
     "data": {
      "text/plain": [
       "Clear               32.673267\n",
       "Mostly Cloudy       19.660537\n",
       "Scattered Clouds    15.134371\n",
       "Partly Cloudy       11.315417\n",
       "Name: Weather_Condition, dtype: float64"
      ]
     },
     "execution_count": 169,
     "metadata": {},
     "output_type": "execute_result"
    }
   ],
   "source": [
    "Accidents['Weather_Condition'].value_counts(normalize = True)[:4] * 100"
   ]
  },
  {
   "cell_type": "code",
   "execution_count": 167,
   "metadata": {},
   "outputs": [
    {
     "data": {
      "image/png": "[encoded data removed]",
      "text/plain": [
       "<Figure size 432x288 with 1 Axes>"
      ]
     },
     "metadata": {
      "needs_background": "light"
     },
     "output_type": "display_data"
    }
   ],
   "source": [
    "Accidents['Weather_Condition'].value_counts()[:4].plot(kind='bar', color='red')\n",
    "plt.show()"
   ]
  },
  {
   "cell_type": "markdown",
   "metadata": {},
   "source": [
    "* Surprisingly, Clear clouds constitues to most number of accidents with 32.67%, followed by MOstly cloudy 19.66%, Scattered clouds 15.13% and partly clouds 11.31%\n",
    "* From this we can assume that most of the accidents occur because of human negligance."
   ]
  },
  {
   "cell_type": "markdown",
   "metadata": {},
   "source": [
    "c. Create a new column called `year` by extracting year from `Start_Time` column."
   ]
  },
  {
   "cell_type": "code",
   "execution_count": 153,
   "metadata": {},
   "outputs": [
    {
     "data": {
      "text/plain": [
       "0    11-02-2016 08:34\n",
       "1    11-02-2016 19:22\n",
       "2    18-02-2016 07:50\n",
       "Name: Start_Time, dtype: object"
      ]
     },
     "execution_count": 153,
     "metadata": {},
     "output_type": "execute_result"
    }
   ],
   "source": [
    "Accidents['Start_Time'].head(3)"
   ]
  },
  {
   "cell_type": "code",
   "execution_count": 164,
   "metadata": {},
   "outputs": [],
   "source": [
    "year = []\n",
    "for val in Accidents['Start_Time']:\n",
    "    dates = i.split(' ')\n",
    "    year.append(dates[0][-4:])\n",
    "\n",
    "Accidents['Year'] = year"
   ]
  },
  {
   "cell_type": "code",
   "execution_count": 165,
   "metadata": {},
   "outputs": [
    {
     "data": {
      "text/html": [
       "<div>\n",
       "<style scoped>\n",
       "    .dataframe tbody tr th:only-of-type {\n",
       "        vertical-align: middle;\n",
       "    }\n",
       "\n",
       "    .dataframe tbody tr th {\n",
       "        vertical-align: top;\n",
       "    }\n",
       "\n",
       "    .dataframe thead th {\n",
       "        text-align: right;\n",
       "    }\n",
       "</style>\n",
       "<table border=\"1\" class=\"dataframe\">\n",
       "  <thead>\n",
       "    <tr style=\"text-align: right;\">\n",
       "      <th></th>\n",
       "      <th>ID</th>\n",
       "      <th>TMC</th>\n",
       "      <th>Severity</th>\n",
       "      <th>Start_Time</th>\n",
       "      <th>End_Time</th>\n",
       "      <th>Distance(mi)</th>\n",
       "      <th>Number</th>\n",
       "      <th>Side</th>\n",
       "      <th>City</th>\n",
       "      <th>County</th>\n",
       "      <th>...</th>\n",
       "      <th>Temperature(F)</th>\n",
       "      <th>Wind_Chill(F)</th>\n",
       "      <th>Humidity(%)</th>\n",
       "      <th>Pressure(in)</th>\n",
       "      <th>Visibility(mi)</th>\n",
       "      <th>Wind_Direction</th>\n",
       "      <th>Wind_Speed(mph)</th>\n",
       "      <th>Precipitation(in)</th>\n",
       "      <th>Weather_Condition</th>\n",
       "      <th>Year</th>\n",
       "    </tr>\n",
       "  </thead>\n",
       "  <tbody>\n",
       "    <tr>\n",
       "      <th>0</th>\n",
       "      <td>A-102</td>\n",
       "      <td>241</td>\n",
       "      <td>2</td>\n",
       "      <td>11-02-2016 08:34</td>\n",
       "      <td>11-02-2016 09:04</td>\n",
       "      <td>0.48</td>\n",
       "      <td>NaN</td>\n",
       "      <td>R</td>\n",
       "      <td>Columbus</td>\n",
       "      <td>Franklin</td>\n",
       "      <td>...</td>\n",
       "      <td>12.0</td>\n",
       "      <td>1.5</td>\n",
       "      <td>77.0</td>\n",
       "      <td>30.26</td>\n",
       "      <td>10.0</td>\n",
       "      <td>West</td>\n",
       "      <td>6.9</td>\n",
       "      <td>NaN</td>\n",
       "      <td>Overcast</td>\n",
       "      <td>2016</td>\n",
       "    </tr>\n",
       "    <tr>\n",
       "      <th>1</th>\n",
       "      <td>A-121</td>\n",
       "      <td>201</td>\n",
       "      <td>3</td>\n",
       "      <td>11-02-2016 19:22</td>\n",
       "      <td>11-02-2016 21:00</td>\n",
       "      <td>0.01</td>\n",
       "      <td>NaN</td>\n",
       "      <td>R</td>\n",
       "      <td>Columbus</td>\n",
       "      <td>Franklin</td>\n",
       "      <td>...</td>\n",
       "      <td>17.1</td>\n",
       "      <td>11.7</td>\n",
       "      <td>62.0</td>\n",
       "      <td>30.35</td>\n",
       "      <td>10.0</td>\n",
       "      <td>SW</td>\n",
       "      <td>3.5</td>\n",
       "      <td>0.0</td>\n",
       "      <td>Mostly Cloudy</td>\n",
       "      <td>2016</td>\n",
       "    </tr>\n",
       "    <tr>\n",
       "      <th>2</th>\n",
       "      <td>A-242</td>\n",
       "      <td>241</td>\n",
       "      <td>3</td>\n",
       "      <td>18-02-2016 07:50</td>\n",
       "      <td>18-02-2016 08:20</td>\n",
       "      <td>0.01</td>\n",
       "      <td>NaN</td>\n",
       "      <td>R</td>\n",
       "      <td>Dayton</td>\n",
       "      <td>Montgomery</td>\n",
       "      <td>...</td>\n",
       "      <td>26.1</td>\n",
       "      <td>NaN</td>\n",
       "      <td>81.0</td>\n",
       "      <td>30.50</td>\n",
       "      <td>5.0</td>\n",
       "      <td>Calm</td>\n",
       "      <td>NaN</td>\n",
       "      <td>NaN</td>\n",
       "      <td>Haze</td>\n",
       "      <td>2016</td>\n",
       "    </tr>\n",
       "  </tbody>\n",
       "</table>\n",
       "<p>3 rows × 23 columns</p>\n",
       "</div>"
      ],
      "text/plain": [
       "      ID  TMC  Severity        Start_Time          End_Time  Distance(mi)  \\\n",
       "0  A-102  241         2  11-02-2016 08:34  11-02-2016 09:04          0.48   \n",
       "1  A-121  201         3  11-02-2016 19:22  11-02-2016 21:00          0.01   \n",
       "2  A-242  241         3  18-02-2016 07:50  18-02-2016 08:20          0.01   \n",
       "\n",
       "   Number Side      City      County  ... Temperature(F) Wind_Chill(F)  \\\n",
       "0     NaN    R  Columbus    Franklin  ...           12.0           1.5   \n",
       "1     NaN    R  Columbus    Franklin  ...           17.1          11.7   \n",
       "2     NaN    R    Dayton  Montgomery  ...           26.1           NaN   \n",
       "\n",
       "  Humidity(%)  Pressure(in)  Visibility(mi)  Wind_Direction  Wind_Speed(mph)  \\\n",
       "0        77.0         30.26            10.0            West              6.9   \n",
       "1        62.0         30.35            10.0              SW              3.5   \n",
       "2        81.0         30.50             5.0            Calm              NaN   \n",
       "\n",
       "   Precipitation(in) Weather_Condition  Year  \n",
       "0                NaN          Overcast  2016  \n",
       "1                0.0     Mostly Cloudy  2016  \n",
       "2                NaN              Haze  2016  \n",
       "\n",
       "[3 rows x 23 columns]"
      ]
     },
     "execution_count": 165,
     "metadata": {},
     "output_type": "execute_result"
    }
   ],
   "source": [
    "Accidents.head(3)"
   ]
  },
  {
   "cell_type": "markdown",
   "metadata": {},
   "source": [
    "d. Using a trend chart state the `time period [months]` in which more number of accidents occured"
   ]
  },
  {
   "cell_type": "code",
   "execution_count": null,
   "metadata": {},
   "outputs": [],
   "source": []
  },
  {
   "cell_type": "code",
   "execution_count": null,
   "metadata": {},
   "outputs": [],
   "source": []
  },
  {
   "cell_type": "code",
   "execution_count": null,
   "metadata": {},
   "outputs": [],
   "source": []
  },
  {
   "cell_type": "code",
   "execution_count": null,
   "metadata": {},
   "outputs": [],
   "source": []
  },
  {
   "cell_type": "code",
   "execution_count": null,
   "metadata": {},
   "outputs": [],
   "source": []
  },
  {
   "cell_type": "markdown",
   "metadata": {},
   "source": [
    "# SECTION C: 30 MARKS"
   ]
  },
  {
   "cell_type": "markdown",
   "metadata": {},
   "source": [
    " _________________"
   ]
  },
  {
   "cell_type": "markdown",
   "metadata": {},
   "source": [
    "### 7. Read the file 'pgaTourData' and solve the following:  \n",
    "    \n",
    "A. Replace the Nan values in both `Top 10 and wins`columns with 0. (2 marks)\n",
    "\n",
    "B. Drop the rest NaN values and change the data type of `Wins`, `Top 10` and `Rounds` to an integer type (2 marks)\n",
    "\n",
    "C. Remove ',' from the column `Points` and convert it into an integer type (2 marks)\n",
    "\n",
    "D. Remove ',' and '$' from the column `Money` and convert it into an integer type (2 marks)\n",
    "\n",
    "E. Make a distribution plot for all the features and provide insights on it (5 marks)\n",
    "\n",
    "F. Find the number of players with `Wins` for each and every year. Convert the same to an integer. Replace Null values with 0 if present (2 marks)\n"
   ]
  },
  {
   "cell_type": "code",
   "execution_count": 245,
   "metadata": {},
   "outputs": [
    {
     "data": {
      "text/html": [
       "<div>\n",
       "<style scoped>\n",
       "    .dataframe tbody tr th:only-of-type {\n",
       "        vertical-align: middle;\n",
       "    }\n",
       "\n",
       "    .dataframe tbody tr th {\n",
       "        vertical-align: top;\n",
       "    }\n",
       "\n",
       "    .dataframe thead th {\n",
       "        text-align: right;\n",
       "    }\n",
       "</style>\n",
       "<table border=\"1\" class=\"dataframe\">\n",
       "  <thead>\n",
       "    <tr style=\"text-align: right;\">\n",
       "      <th></th>\n",
       "      <th>Player Name</th>\n",
       "      <th>Rounds</th>\n",
       "      <th>Fairway Percentage</th>\n",
       "      <th>Year</th>\n",
       "      <th>Avg Distance</th>\n",
       "      <th>gir</th>\n",
       "      <th>Average Putts</th>\n",
       "      <th>Average Scrambling</th>\n",
       "      <th>Average Score</th>\n",
       "      <th>Points</th>\n",
       "      <th>Wins</th>\n",
       "      <th>Top 10</th>\n",
       "      <th>Average SG Putts</th>\n",
       "      <th>Average SG Total</th>\n",
       "      <th>SG:OTT</th>\n",
       "      <th>SG:APR</th>\n",
       "      <th>SG:ARG</th>\n",
       "      <th>Money</th>\n",
       "    </tr>\n",
       "  </thead>\n",
       "  <tbody>\n",
       "    <tr>\n",
       "      <th>0</th>\n",
       "      <td>Henrik Stenson</td>\n",
       "      <td>60</td>\n",
       "      <td>75.19</td>\n",
       "      <td>2018</td>\n",
       "      <td>291.5</td>\n",
       "      <td>73.51</td>\n",
       "      <td>29.93</td>\n",
       "      <td>60.67</td>\n",
       "      <td>69.617</td>\n",
       "      <td>868</td>\n",
       "      <td>NaN</td>\n",
       "      <td>5.0</td>\n",
       "      <td>-0.207</td>\n",
       "      <td>1.153</td>\n",
       "      <td>0.427</td>\n",
       "      <td>0.960</td>\n",
       "      <td>-0.027</td>\n",
       "      <td>$2,680,487</td>\n",
       "    </tr>\n",
       "    <tr>\n",
       "      <th>1</th>\n",
       "      <td>Ryan Armour</td>\n",
       "      <td>109</td>\n",
       "      <td>73.58</td>\n",
       "      <td>2018</td>\n",
       "      <td>283.5</td>\n",
       "      <td>68.22</td>\n",
       "      <td>29.31</td>\n",
       "      <td>60.13</td>\n",
       "      <td>70.758</td>\n",
       "      <td>1,006</td>\n",
       "      <td>1.0</td>\n",
       "      <td>3.0</td>\n",
       "      <td>-0.058</td>\n",
       "      <td>0.337</td>\n",
       "      <td>-0.012</td>\n",
       "      <td>0.213</td>\n",
       "      <td>0.194</td>\n",
       "      <td>$2,485,203</td>\n",
       "    </tr>\n",
       "    <tr>\n",
       "      <th>2</th>\n",
       "      <td>Chez Reavie</td>\n",
       "      <td>93</td>\n",
       "      <td>72.24</td>\n",
       "      <td>2018</td>\n",
       "      <td>286.5</td>\n",
       "      <td>68.67</td>\n",
       "      <td>29.12</td>\n",
       "      <td>62.27</td>\n",
       "      <td>70.432</td>\n",
       "      <td>1,020</td>\n",
       "      <td>NaN</td>\n",
       "      <td>3.0</td>\n",
       "      <td>0.192</td>\n",
       "      <td>0.674</td>\n",
       "      <td>0.183</td>\n",
       "      <td>0.437</td>\n",
       "      <td>-0.137</td>\n",
       "      <td>$2,700,018</td>\n",
       "    </tr>\n",
       "  </tbody>\n",
       "</table>\n",
       "</div>"
      ],
      "text/plain": [
       "      Player Name  Rounds  Fairway Percentage  Year  Avg Distance    gir  \\\n",
       "0  Henrik Stenson      60               75.19  2018         291.5  73.51   \n",
       "1     Ryan Armour     109               73.58  2018         283.5  68.22   \n",
       "2     Chez Reavie      93               72.24  2018         286.5  68.67   \n",
       "\n",
       "   Average Putts  Average Scrambling  Average Score Points  Wins  Top 10  \\\n",
       "0          29.93               60.67         69.617    868   NaN     5.0   \n",
       "1          29.31               60.13         70.758  1,006   1.0     3.0   \n",
       "2          29.12               62.27         70.432  1,020   NaN     3.0   \n",
       "\n",
       "   Average SG Putts  Average SG Total  SG:OTT  SG:APR  SG:ARG       Money  \n",
       "0            -0.207             1.153   0.427   0.960  -0.027  $2,680,487  \n",
       "1            -0.058             0.337  -0.012   0.213   0.194  $2,485,203  \n",
       "2             0.192             0.674   0.183   0.437  -0.137  $2,700,018  "
      ]
     },
     "execution_count": 245,
     "metadata": {},
     "output_type": "execute_result"
    }
   ],
   "source": [
    "pgaTourData.head(3)"
   ]
  },
  {
   "cell_type": "markdown",
   "metadata": {},
   "source": [
    "A. Replace the Nan values in both `Top 10 and wins`columns with 0."
   ]
  },
  {
   "cell_type": "code",
   "execution_count": 246,
   "metadata": {},
   "outputs": [
    {
     "data": {
      "text/plain": [
       "Player Name             0\n",
       "Rounds                  0\n",
       "Fairway Percentage      0\n",
       "Year                    0\n",
       "Avg Distance            0\n",
       "gir                     0\n",
       "Average Putts           0\n",
       "Average Scrambling      0\n",
       "Average Score           0\n",
       "Points                  2\n",
       "Wins                  596\n",
       "Top 10                128\n",
       "Average SG Putts        0\n",
       "Average SG Total        0\n",
       "SG:OTT                  0\n",
       "SG:APR                  0\n",
       "SG:ARG                  0\n",
       "Money                   2\n",
       "dtype: int64"
      ]
     },
     "execution_count": 246,
     "metadata": {},
     "output_type": "execute_result"
    }
   ],
   "source": [
    "pgaTourData.isna().sum()"
   ]
  },
  {
   "cell_type": "code",
   "execution_count": 247,
   "metadata": {},
   "outputs": [
    {
     "data": {
      "text/plain": [
       "(numpy.float64, numpy.float64)"
      ]
     },
     "execution_count": 247,
     "metadata": {},
     "output_type": "execute_result"
    }
   ],
   "source": [
    "type(pgaTourData['Wins'][0]), type(pgaTourData['Top 10'][0])"
   ]
  },
  {
   "cell_type": "code",
   "execution_count": 248,
   "metadata": {},
   "outputs": [],
   "source": [
    "pgaTourData['Wins'] = pgaTourData['Wins'].fillna(0)\n",
    "pgaTourData['Top 10'] = pgaTourData['Top 10'].fillna(0)"
   ]
  },
  {
   "cell_type": "markdown",
   "metadata": {},
   "source": [
    "B. Drop the rest NaN values and change the data type of `Wins`, `Top 10` and `Rounds` to an integer type"
   ]
  },
  {
   "cell_type": "code",
   "execution_count": 249,
   "metadata": {},
   "outputs": [
    {
     "data": {
      "text/plain": [
       "Player Name           0\n",
       "Rounds                0\n",
       "Fairway Percentage    0\n",
       "Year                  0\n",
       "Avg Distance          0\n",
       "gir                   0\n",
       "Average Putts         0\n",
       "Average Scrambling    0\n",
       "Average Score         0\n",
       "Points                2\n",
       "Wins                  0\n",
       "Top 10                0\n",
       "Average SG Putts      0\n",
       "Average SG Total      0\n",
       "SG:OTT                0\n",
       "SG:APR                0\n",
       "SG:ARG                0\n",
       "Money                 2\n",
       "dtype: int64"
      ]
     },
     "execution_count": 249,
     "metadata": {},
     "output_type": "execute_result"
    }
   ],
   "source": [
    "pgaTourData.isna().sum()"
   ]
  },
  {
   "cell_type": "markdown",
   "metadata": {},
   "source": [
    "* We have two Nan values in Points and Money columns. We are dropping those rows alone"
   ]
  },
  {
   "cell_type": "code",
   "execution_count": 250,
   "metadata": {},
   "outputs": [],
   "source": [
    "pgaTourData.dropna(inplace= True)\n",
    "\n",
    "# removing the Nan Values from the dataframe. Only those two cols has Nan values, now removing them too."
   ]
  },
  {
   "cell_type": "code",
   "execution_count": 251,
   "metadata": {},
   "outputs": [],
   "source": [
    "pgaTourData['Wins'] = pgaTourData['Wins'].astype('int')\n",
    "pgaTourData['Top 10'] = pgaTourData['Top 10'].astype('int')\n",
    "pgaTourData['Rounds'] = pgaTourData['Rounds'].astype('int')"
   ]
  },
  {
   "cell_type": "markdown",
   "metadata": {},
   "source": [
    "C. Remove ',' from the column `Points` and convert it into an integer type"
   ]
  },
  {
   "cell_type": "code",
   "execution_count": 252,
   "metadata": {},
   "outputs": [
    {
     "data": {
      "text/plain": [
       "0      868\n",
       "1    1,006\n",
       "2    1,020\n",
       "3      795\n",
       "4      421\n",
       "Name: Points, dtype: object"
      ]
     },
     "execution_count": 252,
     "metadata": {},
     "output_type": "execute_result"
    }
   ],
   "source": [
    "pgaTourData['Points'].head()"
   ]
  },
  {
   "cell_type": "code",
   "execution_count": 253,
   "metadata": {},
   "outputs": [],
   "source": [
    "val = []\n",
    "for i in pgaTourData['Points']:\n",
    "    values = i.replace(',','')\n",
    "    val.append(values)"
   ]
  },
  {
   "cell_type": "code",
   "execution_count": 254,
   "metadata": {},
   "outputs": [],
   "source": [
    "pgaTourData['Points'] = val"
   ]
  },
  {
   "cell_type": "code",
   "execution_count": 255,
   "metadata": {},
   "outputs": [],
   "source": [
    "pgaTourData['Points'] = pgaTourData['Points'].astype('int')"
   ]
  },
  {
   "cell_type": "code",
   "execution_count": 256,
   "metadata": {},
   "outputs": [
    {
     "data": {
      "text/plain": [
       "0     868\n",
       "1    1006\n",
       "2    1020\n",
       "3     795\n",
       "4     421\n",
       "Name: Points, dtype: int64"
      ]
     },
     "execution_count": 256,
     "metadata": {},
     "output_type": "execute_result"
    }
   ],
   "source": [
    "pgaTourData['Points'].head()"
   ]
  },
  {
   "cell_type": "code",
   "execution_count": null,
   "metadata": {},
   "outputs": [],
   "source": []
  },
  {
   "cell_type": "markdown",
   "metadata": {},
   "source": [
    "D. Remove ',' and '$' from the column `Money` and convert it into an integer type"
   ]
  },
  {
   "cell_type": "code",
   "execution_count": 257,
   "metadata": {},
   "outputs": [
    {
     "data": {
      "text/plain": [
       "0    $2,680,487\n",
       "1    $2,485,203\n",
       "2    $2,700,018\n",
       "3    $1,986,608\n",
       "4    $1,089,763\n",
       "Name: Money, dtype: object"
      ]
     },
     "execution_count": 257,
     "metadata": {},
     "output_type": "execute_result"
    }
   ],
   "source": [
    "pgaTourData['Money'].head()"
   ]
  },
  {
   "cell_type": "code",
   "execution_count": 258,
   "metadata": {},
   "outputs": [],
   "source": [
    "val = []\n",
    "for i in pgaTourData['Money']:\n",
    "    values = i.replace(',','')\n",
    "    val.append(values)"
   ]
  },
  {
   "cell_type": "code",
   "execution_count": 259,
   "metadata": {},
   "outputs": [],
   "source": [
    "pgaTourData['Money'] = val"
   ]
  },
  {
   "cell_type": "code",
   "execution_count": 266,
   "metadata": {},
   "outputs": [],
   "source": [
    "val = []\n",
    "for i in pgaTourData['Money']:\n",
    "    val.append(i[1:])"
   ]
  },
  {
   "cell_type": "code",
   "execution_count": 267,
   "metadata": {},
   "outputs": [],
   "source": [
    "pgaTourData['Money'] = val"
   ]
  },
  {
   "cell_type": "code",
   "execution_count": 268,
   "metadata": {},
   "outputs": [],
   "source": [
    "pgaTourData['Money'] = pgaTourData['Money'].astype('int')"
   ]
  },
  {
   "cell_type": "code",
   "execution_count": 269,
   "metadata": {},
   "outputs": [
    {
     "data": {
      "text/plain": [
       "0    2680487\n",
       "1    2485203\n",
       "2    2700018\n",
       "Name: Money, dtype: int64"
      ]
     },
     "execution_count": 269,
     "metadata": {},
     "output_type": "execute_result"
    }
   ],
   "source": [
    "pgaTourData['Money'].head(3)"
   ]
  },
  {
   "cell_type": "code",
   "execution_count": null,
   "metadata": {},
   "outputs": [],
   "source": []
  },
  {
   "cell_type": "markdown",
   "metadata": {},
   "source": [
    "E. Make a distribution plot for all the features and provide insights on it"
   ]
  },
  {
   "cell_type": "code",
   "execution_count": 270,
   "metadata": {},
   "outputs": [
    {
     "data": {
      "image/png": "[encoded data removed]",
      "text/plain": [
       "<Figure size 432x288 with 1 Axes>"
      ]
     },
     "metadata": {
      "needs_background": "light"
     },
     "output_type": "display_data"
    },
    {
     "data": {
      "image/png": "[encoded data removed]",
      "text/plain": [
       "<Figure size 432x288 with 1 Axes>"
      ]
     },
     "metadata": {
      "needs_background": "light"
     },
     "output_type": "display_data"
    },
    {
     "data": {
      "image/png": "[encoded data removed]",
      "text/plain": [
       "<Figure size 432x288 with 1 Axes>"
      ]
     },
     "metadata": {
      "needs_background": "light"
     },
     "output_type": "display_data"
    },
    {
     "data": {
      "image/png": "[encoded data removed]",
      "text/plain": [
       "<Figure size 432x288 with 1 Axes>"
      ]
     },
     "metadata": {
      "needs_background": "light"
     },
     "output_type": "display_data"
    },
    {
     "data": {
      "image/png": "[encoded data removed]",
      "text/plain": [
       "<Figure size 432x288 with 1 Axes>"
      ]
     },
     "metadata": {
      "needs_background": "light"
     },
     "output_type": "display_data"
    },
    {
     "data": {
      "image/png": "[encoded data removed]",
      "text/plain": [
       "<Figure size 432x288 with 1 Axes>"
      ]
     },
     "metadata": {
      "needs_background": "light"
     },
     "output_type": "display_data"
    },
    {
     "data": {
      "image/png": "[encoded data removed]",
      "text/plain": [
       "<Figure size 432x288 with 1 Axes>"
      ]
     },
     "metadata": {
      "needs_background": "light"
     },
     "output_type": "display_data"
    },
    {
     "data": {
      "image/png": "[encoded data removed]",
      "text/plain": [
       "<Figure size 432x288 with 1 Axes>"
      ]
     },
     "metadata": {
      "needs_background": "light"
     },
     "output_type": "display_data"
    },
    {
     "data": {
      "image/png": "[encoded data removed]",
      "text/plain": [
       "<Figure size 432x288 with 1 Axes>"
      ]
     },
     "metadata": {
      "needs_background": "light"
     },
     "output_type": "display_data"
    },
    {
     "data": {
      "image/png": "[encoded data removed]",
      "text/plain": [
       "<Figure size 432x288 with 1 Axes>"
      ]
     },
     "metadata": {
      "needs_background": "light"
     },
     "output_type": "display_data"
    },
    {
     "data": {
      "image/png": "[encoded data removed]",
      "text/plain": [
       "<Figure size 432x288 with 1 Axes>"
      ]
     },
     "metadata": {
      "needs_background": "light"
     },
     "output_type": "display_data"
    },
    {
     "data": {
      "image/png": "[encoded data removed]",
      "text/plain": [
       "<Figure size 432x288 with 1 Axes>"
      ]
     },
     "metadata": {
      "needs_background": "light"
     },
     "output_type": "display_data"
    },
    {
     "data": {
      "image/png": "[encoded data removed]",
      "text/plain": [
       "<Figure size 432x288 with 1 Axes>"
      ]
     },
     "metadata": {
      "needs_background": "light"
     },
     "output_type": "display_data"
    },
    {
     "data": {
      "image/png": "[encoded data removed]",
      "text/plain": [
       "<Figure size 432x288 with 1 Axes>"
      ]
     },
     "metadata": {
      "needs_background": "light"
     },
     "output_type": "display_data"
    },
    {
     "data": {
      "image/png": "[encoded data removed]",
      "text/plain": [
       "<Figure size 432x288 with 1 Axes>"
      ]
     },
     "metadata": {
      "needs_background": "light"
     },
     "output_type": "display_data"
    },
    {
     "data": {
      "image/png": "[encoded data removed]",
      "text/plain": [
       "<Figure size 432x288 with 1 Axes>"
      ]
     },
     "metadata": {
      "needs_background": "light"
     },
     "output_type": "display_data"
    },
    {
     "data": {
      "image/png": "[encoded data removed]",
      "text/plain": [
       "<Figure size 432x288 with 1 Axes>"
      ]
     },
     "metadata": {
      "needs_background": "light"
     },
     "output_type": "display_data"
    }
   ],
   "source": [
    "num_cols = pgaTourData.select_dtypes(exclude= 'object').columns\n",
    "for col in num_cols:\n",
    "    sns.distplot(pgaTourData[col])\n",
    "    plt.show()"
   ]
  },
  {
   "cell_type": "markdown",
   "metadata": {},
   "source": [
    "Inference:-"
   ]
  },
  {
   "cell_type": "markdown",
   "metadata": {},
   "source": [
    "* Most of the features are normally distibuted. Though they are slighly left or right skewed, they are well within the limit."
   ]
  },
  {
   "cell_type": "markdown",
   "metadata": {},
   "source": [
    "* Rounds, Year (more like categorical), Avg Distance, Average Putts, Average score, Average SG putts are more nearly normally distributed"
   ]
  },
  {
   "cell_type": "code",
   "execution_count": 297,
   "metadata": {},
   "outputs": [
    {
     "data": {
      "text/plain": [
       "Rounds               -0.204374\n",
       "Fairway Percentage   -0.073828\n",
       "Year                 -0.097375\n",
       "Avg Distance          0.144031\n",
       "gir                  -0.463221\n",
       "Average Putts         0.086541\n",
       "Average Scrambling   -0.314950\n",
       "Average Score         0.359732\n",
       "Points                2.004817\n",
       "Wins                  3.283958\n",
       "Top 10                1.108529\n",
       "Average SG Putts     -0.312169\n",
       "Average SG Total     -0.273597\n",
       "SG:OTT               -0.573071\n",
       "SG:APR               -0.494883\n",
       "SG:ARG               -0.105173\n",
       "Money                 2.402543\n",
       "dtype: float64"
      ]
     },
     "execution_count": 297,
     "metadata": {},
     "output_type": "execute_result"
    }
   ],
   "source": [
    "pgaTourData[num_cols].skew()"
   ]
  },
  {
   "cell_type": "markdown",
   "metadata": {},
   "source": [
    "* Our observations are True"
   ]
  },
  {
   "cell_type": "code",
   "execution_count": null,
   "metadata": {},
   "outputs": [],
   "source": []
  },
  {
   "cell_type": "markdown",
   "metadata": {},
   "source": [
    "F. Find the number of players with `Wins` for each and every year. Convert the same to an integer. Replace Null values with 0 if present"
   ]
  },
  {
   "cell_type": "code",
   "execution_count": 220,
   "metadata": {},
   "outputs": [
    {
     "data": {
      "text/plain": [
       "(2015, 2018)"
      ]
     },
     "execution_count": 220,
     "metadata": {},
     "output_type": "execute_result"
    }
   ],
   "source": [
    "min(pgaTourData['Year']), max(pgaTourData['Year'])"
   ]
  },
  {
   "cell_type": "code",
   "execution_count": null,
   "metadata": {},
   "outputs": [],
   "source": []
  },
  {
   "cell_type": "code",
   "execution_count": null,
   "metadata": {},
   "outputs": [],
   "source": []
  },
  {
   "cell_type": "code",
   "execution_count": null,
   "metadata": {},
   "outputs": [],
   "source": []
  },
  {
   "cell_type": "markdown",
   "metadata": {},
   "source": [
    "### 8. Solve the following questions on 'pgaTourData' dataset.\n",
    "\n",
    "A. Find the percentage(%) of players without a win in every year and plot the same. Provide insights on it – (3 marks)\n",
    "\n",
    "B. Find the percentage(%) of people who did not get placed in the top 10 each year and provide insights on it   - (3 marks)\n",
    "\n",
    "C. Find the longest hitters – (2 marks)\n",
    "\n",
    "D. Explore the Earnings of Players – (2 marks)\n",
    "\n",
    "E. With the help of visualisation technique show the comparison between the average players and the champion players on the basis of each feature given in the dataset for every year? – (5 marks)\n",
    "\n"
   ]
  },
  {
   "cell_type": "code",
   "execution_count": 226,
   "metadata": {},
   "outputs": [
    {
     "data": {
      "text/html": [
       "<div>\n",
       "<style scoped>\n",
       "    .dataframe tbody tr th:only-of-type {\n",
       "        vertical-align: middle;\n",
       "    }\n",
       "\n",
       "    .dataframe tbody tr th {\n",
       "        vertical-align: top;\n",
       "    }\n",
       "\n",
       "    .dataframe thead th {\n",
       "        text-align: right;\n",
       "    }\n",
       "</style>\n",
       "<table border=\"1\" class=\"dataframe\">\n",
       "  <thead>\n",
       "    <tr style=\"text-align: right;\">\n",
       "      <th></th>\n",
       "      <th>Player Name</th>\n",
       "      <th>Rounds</th>\n",
       "      <th>Fairway Percentage</th>\n",
       "      <th>Year</th>\n",
       "      <th>Avg Distance</th>\n",
       "      <th>gir</th>\n",
       "      <th>Average Putts</th>\n",
       "      <th>Average Scrambling</th>\n",
       "      <th>Average Score</th>\n",
       "      <th>Points</th>\n",
       "      <th>Wins</th>\n",
       "      <th>Top 10</th>\n",
       "      <th>Average SG Putts</th>\n",
       "      <th>Average SG Total</th>\n",
       "      <th>SG:OTT</th>\n",
       "      <th>SG:APR</th>\n",
       "      <th>SG:ARG</th>\n",
       "      <th>Money</th>\n",
       "    </tr>\n",
       "  </thead>\n",
       "  <tbody>\n",
       "    <tr>\n",
       "      <th>0</th>\n",
       "      <td>Henrik Stenson</td>\n",
       "      <td>60</td>\n",
       "      <td>75.19</td>\n",
       "      <td>2018</td>\n",
       "      <td>291.5</td>\n",
       "      <td>73.51</td>\n",
       "      <td>29.93</td>\n",
       "      <td>60.67</td>\n",
       "      <td>69.617</td>\n",
       "      <td>868</td>\n",
       "      <td>0</td>\n",
       "      <td>5</td>\n",
       "      <td>-0.207</td>\n",
       "      <td>1.153</td>\n",
       "      <td>0.427</td>\n",
       "      <td>0.960</td>\n",
       "      <td>-0.027</td>\n",
       "      <td>$2,680,487</td>\n",
       "    </tr>\n",
       "    <tr>\n",
       "      <th>1</th>\n",
       "      <td>Ryan Armour</td>\n",
       "      <td>109</td>\n",
       "      <td>73.58</td>\n",
       "      <td>2018</td>\n",
       "      <td>283.5</td>\n",
       "      <td>68.22</td>\n",
       "      <td>29.31</td>\n",
       "      <td>60.13</td>\n",
       "      <td>70.758</td>\n",
       "      <td>1,006</td>\n",
       "      <td>1</td>\n",
       "      <td>3</td>\n",
       "      <td>-0.058</td>\n",
       "      <td>0.337</td>\n",
       "      <td>-0.012</td>\n",
       "      <td>0.213</td>\n",
       "      <td>0.194</td>\n",
       "      <td>$2,485,203</td>\n",
       "    </tr>\n",
       "  </tbody>\n",
       "</table>\n",
       "</div>"
      ],
      "text/plain": [
       "      Player Name  Rounds  Fairway Percentage  Year  Avg Distance    gir  \\\n",
       "0  Henrik Stenson      60               75.19  2018         291.5  73.51   \n",
       "1     Ryan Armour     109               73.58  2018         283.5  68.22   \n",
       "\n",
       "   Average Putts  Average Scrambling  Average Score Points  Wins  Top 10  \\\n",
       "0          29.93               60.67         69.617    868     0       5   \n",
       "1          29.31               60.13         70.758  1,006     1       3   \n",
       "\n",
       "   Average SG Putts  Average SG Total  SG:OTT  SG:APR  SG:ARG       Money  \n",
       "0            -0.207             1.153   0.427   0.960  -0.027  $2,680,487  \n",
       "1            -0.058             0.337  -0.012   0.213   0.194  $2,485,203  "
      ]
     },
     "execution_count": 226,
     "metadata": {},
     "output_type": "execute_result"
    }
   ],
   "source": [
    "pgaTourData.head(2)"
   ]
  },
  {
   "cell_type": "markdown",
   "metadata": {},
   "source": [
    "A. Find the percentage(%) of players without a win in every year and plot the same. Provide insights on it"
   ]
  },
  {
   "cell_type": "code",
   "execution_count": 304,
   "metadata": {},
   "outputs": [],
   "source": [
    "pga_df = pgaTourData.groupby(by='Player Name').describe()['Wins']"
   ]
  },
  {
   "cell_type": "code",
   "execution_count": 307,
   "metadata": {},
   "outputs": [
    {
     "data": {
      "text/plain": [
       "68.27586206896552"
      ]
     },
     "execution_count": 307,
     "metadata": {},
     "output_type": "execute_result"
    }
   ],
   "source": [
    "len(pga_df[pga_df['mean']==0])/len(pga_df) * 100"
   ]
  },
  {
   "cell_type": "markdown",
   "metadata": {},
   "source": [
    "* There are 68% of Players without a win"
   ]
  },
  {
   "cell_type": "code",
   "execution_count": null,
   "metadata": {},
   "outputs": [],
   "source": []
  },
  {
   "cell_type": "markdown",
   "metadata": {},
   "source": [
    "B. Find the percentage(%) of people who did not get placed in the top 10 each year and provide insights on it"
   ]
  },
  {
   "cell_type": "code",
   "execution_count": 309,
   "metadata": {},
   "outputs": [],
   "source": [
    "pga_df_2 = pgaTourData.groupby(by='Player Name').describe()['Top 10']"
   ]
  },
  {
   "cell_type": "code",
   "execution_count": 310,
   "metadata": {},
   "outputs": [
    {
     "data": {
      "text/plain": [
       "14.13793103448276"
      ]
     },
     "execution_count": 310,
     "metadata": {},
     "output_type": "execute_result"
    }
   ],
   "source": [
    "len(pga_df_2[pga_df_2['mean']==0])/len(pga_df_2) * 100"
   ]
  },
  {
   "cell_type": "markdown",
   "metadata": {},
   "source": [
    "* There are 14% of Players who did not get paced in Top 10"
   ]
  },
  {
   "cell_type": "code",
   "execution_count": null,
   "metadata": {},
   "outputs": [],
   "source": []
  },
  {
   "cell_type": "markdown",
   "metadata": {},
   "source": [
    "C. Find the longest hitters"
   ]
  },
  {
   "cell_type": "code",
   "execution_count": 280,
   "metadata": {},
   "outputs": [
    {
     "data": {
      "text/html": [
       "<div>\n",
       "<style scoped>\n",
       "    .dataframe tbody tr th:only-of-type {\n",
       "        vertical-align: middle;\n",
       "    }\n",
       "\n",
       "    .dataframe tbody tr th {\n",
       "        vertical-align: top;\n",
       "    }\n",
       "\n",
       "    .dataframe thead th {\n",
       "        text-align: right;\n",
       "    }\n",
       "</style>\n",
       "<table border=\"1\" class=\"dataframe\">\n",
       "  <thead>\n",
       "    <tr style=\"text-align: right;\">\n",
       "      <th></th>\n",
       "      <th>Player Name</th>\n",
       "      <th>Avg Distance</th>\n",
       "    </tr>\n",
       "  </thead>\n",
       "  <tbody>\n",
       "    <tr>\n",
       "      <th>162</th>\n",
       "      <td>Rory McIlroy</td>\n",
       "      <td>319.7</td>\n",
       "    </tr>\n",
       "    <tr>\n",
       "      <th>174</th>\n",
       "      <td>Trey Mullinax</td>\n",
       "      <td>318.3</td>\n",
       "    </tr>\n",
       "    <tr>\n",
       "      <th>350</th>\n",
       "      <td>Rory McIlroy</td>\n",
       "      <td>316.7</td>\n",
       "    </tr>\n",
       "    <tr>\n",
       "      <th>179</th>\n",
       "      <td>Tom Lovelady</td>\n",
       "      <td>315.9</td>\n",
       "    </tr>\n",
       "    <tr>\n",
       "      <th>173</th>\n",
       "      <td>Tony Finau</td>\n",
       "      <td>315.1</td>\n",
       "    </tr>\n",
       "    <tr>\n",
       "      <th>181</th>\n",
       "      <td>Luke List</td>\n",
       "      <td>314.6</td>\n",
       "    </tr>\n",
       "    <tr>\n",
       "      <th>561</th>\n",
       "      <td>J.B. Holmes</td>\n",
       "      <td>314.5</td>\n",
       "    </tr>\n",
       "    <tr>\n",
       "      <th>336</th>\n",
       "      <td>Dustin Johnson</td>\n",
       "      <td>314.4</td>\n",
       "    </tr>\n",
       "    <tr>\n",
       "      <th>124</th>\n",
       "      <td>Dustin Johnson</td>\n",
       "      <td>314.0</td>\n",
       "    </tr>\n",
       "    <tr>\n",
       "      <th>520</th>\n",
       "      <td>Dustin Johnson</td>\n",
       "      <td>313.6</td>\n",
       "    </tr>\n",
       "  </tbody>\n",
       "</table>\n",
       "</div>"
      ],
      "text/plain": [
       "        Player Name  Avg Distance\n",
       "162    Rory McIlroy         319.7\n",
       "174   Trey Mullinax         318.3\n",
       "350    Rory McIlroy         316.7\n",
       "179    Tom Lovelady         315.9\n",
       "173      Tony Finau         315.1\n",
       "181       Luke List         314.6\n",
       "561     J.B. Holmes         314.5\n",
       "336  Dustin Johnson         314.4\n",
       "124  Dustin Johnson         314.0\n",
       "520  Dustin Johnson         313.6"
      ]
     },
     "execution_count": 280,
     "metadata": {},
     "output_type": "execute_result"
    }
   ],
   "source": [
    "pgaTourData.sort_values(by = ['Avg Distance'], ascending= False)[:10][['Player Name', 'Avg Distance']]"
   ]
  },
  {
   "cell_type": "markdown",
   "metadata": {},
   "source": [
    "* These are the top 10 longest hits"
   ]
  },
  {
   "cell_type": "code",
   "execution_count": 283,
   "metadata": {},
   "outputs": [
    {
     "data": {
      "text/plain": [
       "Player Name\n",
       "Tom Lovelady      315.900000\n",
       "Rory McIlroy      314.400000\n",
       "Dustin Johnson    314.000000\n",
       "Trey Mullinax     313.550000\n",
       "Brandon Hagy      312.700000\n",
       "Keith Mitchell    312.600000\n",
       "Tony Finau        312.166667\n",
       "Luke List         311.000000\n",
       "Ryan Brehm        310.500000\n",
       "Andrew Loupe      310.300000\n",
       "Name: mean, dtype: float64"
      ]
     },
     "execution_count": 283,
     "metadata": {},
     "output_type": "execute_result"
    }
   ],
   "source": [
    "pgaTourData.groupby(by='Player Name').describe()['Avg Distance'].sort_values(by='mean',ascending = False)[:10]['mean']"
   ]
  },
  {
   "cell_type": "markdown",
   "metadata": {},
   "source": [
    "* These are the top 10 longest hitters(unique hitters) through out the recorded competition."
   ]
  },
  {
   "cell_type": "code",
   "execution_count": null,
   "metadata": {},
   "outputs": [],
   "source": []
  },
  {
   "cell_type": "markdown",
   "metadata": {},
   "source": [
    "D. Explore the Earnings of Players"
   ]
  },
  {
   "cell_type": "code",
   "execution_count": 294,
   "metadata": {},
   "outputs": [
    {
     "data": {
      "text/html": [
       "<div>\n",
       "<style scoped>\n",
       "    .dataframe tbody tr th:only-of-type {\n",
       "        vertical-align: middle;\n",
       "    }\n",
       "\n",
       "    .dataframe tbody tr th {\n",
       "        vertical-align: top;\n",
       "    }\n",
       "\n",
       "    .dataframe thead th {\n",
       "        text-align: right;\n",
       "    }\n",
       "</style>\n",
       "<table border=\"1\" class=\"dataframe\">\n",
       "  <thead>\n",
       "    <tr style=\"text-align: right;\">\n",
       "      <th></th>\n",
       "      <th>count</th>\n",
       "      <th>mean</th>\n",
       "      <th>std</th>\n",
       "      <th>min</th>\n",
       "      <th>25%</th>\n",
       "      <th>50%</th>\n",
       "      <th>75%</th>\n",
       "      <th>max</th>\n",
       "    </tr>\n",
       "    <tr>\n",
       "      <th>Player Name</th>\n",
       "      <th></th>\n",
       "      <th></th>\n",
       "      <th></th>\n",
       "      <th></th>\n",
       "      <th></th>\n",
       "      <th></th>\n",
       "      <th></th>\n",
       "      <th></th>\n",
       "    </tr>\n",
       "  </thead>\n",
       "  <tbody>\n",
       "    <tr>\n",
       "      <th>Dustin Johnson</th>\n",
       "      <td>3.0</td>\n",
       "      <td>8.851577e+06</td>\n",
       "      <td>4.655422e+05</td>\n",
       "      <td>8457352.0</td>\n",
       "      <td>8594772.50</td>\n",
       "      <td>8732193.0</td>\n",
       "      <td>9048689.00</td>\n",
       "      <td>9365185.0</td>\n",
       "    </tr>\n",
       "    <tr>\n",
       "      <th>Jordan Spieth</th>\n",
       "      <td>4.0</td>\n",
       "      <td>7.448876e+06</td>\n",
       "      <td>4.092663e+06</td>\n",
       "      <td>2793536.0</td>\n",
       "      <td>4852236.50</td>\n",
       "      <td>7485751.5</td>\n",
       "      <td>10082391.00</td>\n",
       "      <td>12030465.0</td>\n",
       "    </tr>\n",
       "    <tr>\n",
       "      <th>Justin Thomas</th>\n",
       "      <td>4.0</td>\n",
       "      <td>6.255328e+06</td>\n",
       "      <td>3.639575e+06</td>\n",
       "      <td>2278564.0</td>\n",
       "      <td>3664415.50</td>\n",
       "      <td>6410593.5</td>\n",
       "      <td>9001505.75</td>\n",
       "      <td>9921560.0</td>\n",
       "    </tr>\n",
       "    <tr>\n",
       "      <th>Tiger Woods</th>\n",
       "      <td>1.0</td>\n",
       "      <td>5.443841e+06</td>\n",
       "      <td>NaN</td>\n",
       "      <td>5443841.0</td>\n",
       "      <td>5443841.00</td>\n",
       "      <td>5443841.0</td>\n",
       "      <td>5443841.00</td>\n",
       "      <td>5443841.0</td>\n",
       "    </tr>\n",
       "    <tr>\n",
       "      <th>Jason Day</th>\n",
       "      <td>3.0</td>\n",
       "      <td>5.370251e+06</td>\n",
       "      <td>2.545275e+06</td>\n",
       "      <td>2978181.0</td>\n",
       "      <td>4032821.00</td>\n",
       "      <td>5087461.0</td>\n",
       "      <td>6566286.50</td>\n",
       "      <td>8045112.0</td>\n",
       "    </tr>\n",
       "    <tr>\n",
       "      <th>Jon Rahm</th>\n",
       "      <td>2.0</td>\n",
       "      <td>5.057963e+06</td>\n",
       "      <td>1.506540e+06</td>\n",
       "      <td>3992678.0</td>\n",
       "      <td>4525320.50</td>\n",
       "      <td>5057963.0</td>\n",
       "      <td>5590605.50</td>\n",
       "      <td>6123248.0</td>\n",
       "    </tr>\n",
       "    <tr>\n",
       "      <th>Justin Rose</th>\n",
       "      <td>4.0</td>\n",
       "      <td>4.981007e+06</td>\n",
       "      <td>2.521800e+06</td>\n",
       "      <td>2085365.0</td>\n",
       "      <td>3705322.25</td>\n",
       "      <td>4853992.5</td>\n",
       "      <td>6129677.25</td>\n",
       "      <td>8130678.0</td>\n",
       "    </tr>\n",
       "    <tr>\n",
       "      <th>Bryson DeChambeau</th>\n",
       "      <td>2.0</td>\n",
       "      <td>4.955772e+06</td>\n",
       "      <td>4.438817e+06</td>\n",
       "      <td>1817054.0</td>\n",
       "      <td>3386412.75</td>\n",
       "      <td>4955771.5</td>\n",
       "      <td>6525130.25</td>\n",
       "      <td>8094489.0</td>\n",
       "    </tr>\n",
       "    <tr>\n",
       "      <th>Brooks Koepka</th>\n",
       "      <td>4.0</td>\n",
       "      <td>4.900184e+06</td>\n",
       "      <td>1.786435e+06</td>\n",
       "      <td>3322393.0</td>\n",
       "      <td>3509523.25</td>\n",
       "      <td>4592148.5</td>\n",
       "      <td>5982809.50</td>\n",
       "      <td>7094047.0</td>\n",
       "    </tr>\n",
       "    <tr>\n",
       "      <th>Hideki Matsuyama</th>\n",
       "      <td>4.0</td>\n",
       "      <td>4.755155e+06</td>\n",
       "      <td>2.498463e+06</td>\n",
       "      <td>2687477.0</td>\n",
       "      <td>3490833.50</td>\n",
       "      <td>3976286.5</td>\n",
       "      <td>5240608.00</td>\n",
       "      <td>8380570.0</td>\n",
       "    </tr>\n",
       "  </tbody>\n",
       "</table>\n",
       "</div>"
      ],
      "text/plain": [
       "                   count          mean           std        min         25%  \\\n",
       "Player Name                                                                   \n",
       "Dustin Johnson       3.0  8.851577e+06  4.655422e+05  8457352.0  8594772.50   \n",
       "Jordan Spieth        4.0  7.448876e+06  4.092663e+06  2793536.0  4852236.50   \n",
       "Justin Thomas        4.0  6.255328e+06  3.639575e+06  2278564.0  3664415.50   \n",
       "Tiger Woods          1.0  5.443841e+06           NaN  5443841.0  5443841.00   \n",
       "Jason Day            3.0  5.370251e+06  2.545275e+06  2978181.0  4032821.00   \n",
       "Jon Rahm             2.0  5.057963e+06  1.506540e+06  3992678.0  4525320.50   \n",
       "Justin Rose          4.0  4.981007e+06  2.521800e+06  2085365.0  3705322.25   \n",
       "Bryson DeChambeau    2.0  4.955772e+06  4.438817e+06  1817054.0  3386412.75   \n",
       "Brooks Koepka        4.0  4.900184e+06  1.786435e+06  3322393.0  3509523.25   \n",
       "Hideki Matsuyama     4.0  4.755155e+06  2.498463e+06  2687477.0  3490833.50   \n",
       "\n",
       "                         50%          75%         max  \n",
       "Player Name                                            \n",
       "Dustin Johnson     8732193.0   9048689.00   9365185.0  \n",
       "Jordan Spieth      7485751.5  10082391.00  12030465.0  \n",
       "Justin Thomas      6410593.5   9001505.75   9921560.0  \n",
       "Tiger Woods        5443841.0   5443841.00   5443841.0  \n",
       "Jason Day          5087461.0   6566286.50   8045112.0  \n",
       "Jon Rahm           5057963.0   5590605.50   6123248.0  \n",
       "Justin Rose        4853992.5   6129677.25   8130678.0  \n",
       "Bryson DeChambeau  4955771.5   6525130.25   8094489.0  \n",
       "Brooks Koepka      4592148.5   5982809.50   7094047.0  \n",
       "Hideki Matsuyama   3976286.5   5240608.00   8380570.0  "
      ]
     },
     "execution_count": 294,
     "metadata": {},
     "output_type": "execute_result"
    }
   ],
   "source": [
    "pgaTourData.groupby(by= 'Player Name').describe()['Money'].sort_values(by='mean', ascending = False)[:10]"
   ]
  },
  {
   "cell_type": "markdown",
   "metadata": {},
   "source": [
    "* Most of the top 10 highly paid players are experienced players who have played atleat 3 to 4 tournaments."
   ]
  },
  {
   "cell_type": "code",
   "execution_count": 295,
   "metadata": {},
   "outputs": [
    {
     "data": {
      "text/html": [
       "<div>\n",
       "<style scoped>\n",
       "    .dataframe tbody tr th:only-of-type {\n",
       "        vertical-align: middle;\n",
       "    }\n",
       "\n",
       "    .dataframe tbody tr th {\n",
       "        vertical-align: top;\n",
       "    }\n",
       "\n",
       "    .dataframe thead th {\n",
       "        text-align: right;\n",
       "    }\n",
       "</style>\n",
       "<table border=\"1\" class=\"dataframe\">\n",
       "  <thead>\n",
       "    <tr style=\"text-align: right;\">\n",
       "      <th></th>\n",
       "      <th>count</th>\n",
       "      <th>mean</th>\n",
       "      <th>std</th>\n",
       "      <th>min</th>\n",
       "      <th>25%</th>\n",
       "      <th>50%</th>\n",
       "      <th>75%</th>\n",
       "      <th>max</th>\n",
       "    </tr>\n",
       "    <tr>\n",
       "      <th>Player Name</th>\n",
       "      <th></th>\n",
       "      <th></th>\n",
       "      <th></th>\n",
       "      <th></th>\n",
       "      <th></th>\n",
       "      <th></th>\n",
       "      <th></th>\n",
       "      <th></th>\n",
       "    </tr>\n",
       "  </thead>\n",
       "  <tbody>\n",
       "    <tr>\n",
       "      <th>Kyle Thompson</th>\n",
       "      <td>1.0</td>\n",
       "      <td>24878.0</td>\n",
       "      <td>NaN</td>\n",
       "      <td>24878.0</td>\n",
       "      <td>24878.0</td>\n",
       "      <td>24878.0</td>\n",
       "      <td>24878.0</td>\n",
       "      <td>24878.0</td>\n",
       "    </tr>\n",
       "    <tr>\n",
       "      <th>Andrew Yun</th>\n",
       "      <td>1.0</td>\n",
       "      <td>41566.0</td>\n",
       "      <td>NaN</td>\n",
       "      <td>41566.0</td>\n",
       "      <td>41566.0</td>\n",
       "      <td>41566.0</td>\n",
       "      <td>41566.0</td>\n",
       "      <td>41566.0</td>\n",
       "    </tr>\n",
       "    <tr>\n",
       "      <th>Matt Atkins</th>\n",
       "      <td>1.0</td>\n",
       "      <td>89104.0</td>\n",
       "      <td>NaN</td>\n",
       "      <td>89104.0</td>\n",
       "      <td>89104.0</td>\n",
       "      <td>89104.0</td>\n",
       "      <td>89104.0</td>\n",
       "      <td>89104.0</td>\n",
       "    </tr>\n",
       "    <tr>\n",
       "      <th>Jim Renner</th>\n",
       "      <td>1.0</td>\n",
       "      <td>90668.0</td>\n",
       "      <td>NaN</td>\n",
       "      <td>90668.0</td>\n",
       "      <td>90668.0</td>\n",
       "      <td>90668.0</td>\n",
       "      <td>90668.0</td>\n",
       "      <td>90668.0</td>\n",
       "    </tr>\n",
       "    <tr>\n",
       "      <th>Zecheng Dou</th>\n",
       "      <td>1.0</td>\n",
       "      <td>90993.0</td>\n",
       "      <td>NaN</td>\n",
       "      <td>90993.0</td>\n",
       "      <td>90993.0</td>\n",
       "      <td>90993.0</td>\n",
       "      <td>90993.0</td>\n",
       "      <td>90993.0</td>\n",
       "    </tr>\n",
       "    <tr>\n",
       "      <th>Dicky Pride</th>\n",
       "      <td>1.0</td>\n",
       "      <td>101456.0</td>\n",
       "      <td>NaN</td>\n",
       "      <td>101456.0</td>\n",
       "      <td>101456.0</td>\n",
       "      <td>101456.0</td>\n",
       "      <td>101456.0</td>\n",
       "      <td>101456.0</td>\n",
       "    </tr>\n",
       "    <tr>\n",
       "      <th>Heath Slocum</th>\n",
       "      <td>1.0</td>\n",
       "      <td>122480.0</td>\n",
       "      <td>NaN</td>\n",
       "      <td>122480.0</td>\n",
       "      <td>122480.0</td>\n",
       "      <td>122480.0</td>\n",
       "      <td>122480.0</td>\n",
       "      <td>122480.0</td>\n",
       "    </tr>\n",
       "    <tr>\n",
       "      <th>Bill Lunde</th>\n",
       "      <td>1.0</td>\n",
       "      <td>128788.0</td>\n",
       "      <td>NaN</td>\n",
       "      <td>128788.0</td>\n",
       "      <td>128788.0</td>\n",
       "      <td>128788.0</td>\n",
       "      <td>128788.0</td>\n",
       "      <td>128788.0</td>\n",
       "    </tr>\n",
       "    <tr>\n",
       "      <th>Roger Sloan</th>\n",
       "      <td>1.0</td>\n",
       "      <td>133048.0</td>\n",
       "      <td>NaN</td>\n",
       "      <td>133048.0</td>\n",
       "      <td>133048.0</td>\n",
       "      <td>133048.0</td>\n",
       "      <td>133048.0</td>\n",
       "      <td>133048.0</td>\n",
       "    </tr>\n",
       "    <tr>\n",
       "      <th>Robert Allenby</th>\n",
       "      <td>2.0</td>\n",
       "      <td>148579.0</td>\n",
       "      <td>174383.845949</td>\n",
       "      <td>25271.0</td>\n",
       "      <td>86925.0</td>\n",
       "      <td>148579.0</td>\n",
       "      <td>210233.0</td>\n",
       "      <td>271887.0</td>\n",
       "    </tr>\n",
       "  </tbody>\n",
       "</table>\n",
       "</div>"
      ],
      "text/plain": [
       "                count      mean            std       min       25%       50%  \\\n",
       "Player Name                                                                    \n",
       "Kyle Thompson     1.0   24878.0            NaN   24878.0   24878.0   24878.0   \n",
       "Andrew Yun        1.0   41566.0            NaN   41566.0   41566.0   41566.0   \n",
       "Matt Atkins       1.0   89104.0            NaN   89104.0   89104.0   89104.0   \n",
       "Jim Renner        1.0   90668.0            NaN   90668.0   90668.0   90668.0   \n",
       "Zecheng Dou       1.0   90993.0            NaN   90993.0   90993.0   90993.0   \n",
       "Dicky Pride       1.0  101456.0            NaN  101456.0  101456.0  101456.0   \n",
       "Heath Slocum      1.0  122480.0            NaN  122480.0  122480.0  122480.0   \n",
       "Bill Lunde        1.0  128788.0            NaN  128788.0  128788.0  128788.0   \n",
       "Roger Sloan       1.0  133048.0            NaN  133048.0  133048.0  133048.0   \n",
       "Robert Allenby    2.0  148579.0  174383.845949   25271.0   86925.0  148579.0   \n",
       "\n",
       "                     75%       max  \n",
       "Player Name                         \n",
       "Kyle Thompson    24878.0   24878.0  \n",
       "Andrew Yun       41566.0   41566.0  \n",
       "Matt Atkins      89104.0   89104.0  \n",
       "Jim Renner       90668.0   90668.0  \n",
       "Zecheng Dou      90993.0   90993.0  \n",
       "Dicky Pride     101456.0  101456.0  \n",
       "Heath Slocum    122480.0  122480.0  \n",
       "Bill Lunde      128788.0  128788.0  \n",
       "Roger Sloan     133048.0  133048.0  \n",
       "Robert Allenby  210233.0  271887.0  "
      ]
     },
     "execution_count": 295,
     "metadata": {},
     "output_type": "execute_result"
    }
   ],
   "source": [
    "pgaTourData.groupby(by= 'Player Name').describe()['Money'].sort_values(by='mean')[:10]"
   ]
  },
  {
   "cell_type": "markdown",
   "metadata": {},
   "source": [
    "* On the contrast to the above findings, most of the LEAST paid players are less experienced. Many of them have played only 1 or 2 tounaments."
   ]
  },
  {
   "cell_type": "markdown",
   "metadata": {},
   "source": [
    "Major finings, In most of the cases, the experience or the number of tournaments appeard is directly proportinal to the earnings."
   ]
  },
  {
   "cell_type": "code",
   "execution_count": null,
   "metadata": {},
   "outputs": [],
   "source": []
  },
  {
   "cell_type": "markdown",
   "metadata": {},
   "source": [
    "E. With the help of visualisation technique show the comparison between the average players and the champion players on the basis of each feature given in the dataset for every year?"
   ]
  },
  {
   "cell_type": "code",
   "execution_count": null,
   "metadata": {},
   "outputs": [],
   "source": []
  },
  {
   "cell_type": "code",
   "execution_count": null,
   "metadata": {},
   "outputs": [],
   "source": []
  },
  {
   "cell_type": "code",
   "execution_count": null,
   "metadata": {},
   "outputs": [],
   "source": []
  },
  {
   "cell_type": "code",
   "execution_count": null,
   "metadata": {},
   "outputs": [],
   "source": []
  },
  {
   "cell_type": "code",
   "execution_count": null,
   "metadata": {},
   "outputs": [],
   "source": []
  },
  {
   "cell_type": "code",
   "execution_count": null,
   "metadata": {},
   "outputs": [],
   "source": []
  }
 ],
 "metadata": {
  "kernelspec": {
   "display_name": "Python 3",
   "language": "python",
   "name": "python3"
  },
  "language_info": {
   "codemirror_mode": {
    "name": "ipython",
    "version": 3
   },
   "file_extension": ".py",
   "mimetype": "text/x-python",
   "name": "python",
   "nbconvert_exporter": "python",
   "pygments_lexer": "ipython3",
   "version": "3.8.5"
  }
 },
 "nbformat": 4,
 "nbformat_minor": 2
}
